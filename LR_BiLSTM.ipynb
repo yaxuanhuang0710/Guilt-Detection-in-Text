{
  "nbformat": 4,
  "nbformat_minor": 0,
  "metadata": {
    "colab": {
      "provenance": [],
      "toc_visible": true,
      "machine_shape": "hm",
      "gpuType": "T4"
    },
    "kernelspec": {
      "name": "python3",
      "display_name": "Python 3"
    },
    "language_info": {
      "name": "python"
    },
    "accelerator": "GPU",
    "gpuClass": "standard"
  },
  "cells": [
    {
      "cell_type": "markdown",
      "source": [
        "# Dataset"
      ],
      "metadata": {
        "id": "Q8510hETd9ng"
      }
    },
    {
      "cell_type": "markdown",
      "source": [
        "## Extract Dataset"
      ],
      "metadata": {
        "id": "KV0F2YhAYvZF"
      }
    },
    {
      "cell_type": "code",
      "source": [
        "import torch\n",
        "torch.cuda.is_available()"
      ],
      "metadata": {
        "colab": {
          "base_uri": "https://localhost:8080/"
        },
        "id": "lzNUod2zYyJN",
        "outputId": "5fde7e14-b5ed-4df9-8873-b9747e8c40ba"
      },
      "execution_count": null,
      "outputs": [
        {
          "output_type": "execute_result",
          "data": {
            "text/plain": [
              "True"
            ]
          },
          "metadata": {},
          "execution_count": 1
        }
      ]
    },
    {
      "cell_type": "code",
      "source": [
        "!pip install pycuda\n",
        "!apt-get install -y libcusparse8.0 libcudnn7=7.6.5.32-1+cuda10.0"
      ],
      "metadata": {
        "colab": {
          "base_uri": "https://localhost:8080/"
        },
        "id": "E4vnmGaVY0Fw",
        "outputId": "6a63ae56-69d1-49d1-bea8-daf7c77cb447"
      },
      "execution_count": null,
      "outputs": [
        {
          "output_type": "stream",
          "name": "stdout",
          "text": [
            "Looking in indexes: https://pypi.org/simple, https://us-python.pkg.dev/colab-wheels/public/simple/\n",
            "Collecting pycuda\n",
            "  Downloading pycuda-2022.2.2.tar.gz (1.7 MB)\n",
            "\u001b[2K     \u001b[90m━━━━━━━━━━━━━━━━━━━━━━━━━━━━━━━━━━━━━━━━\u001b[0m \u001b[32m1.7/1.7 MB\u001b[0m \u001b[31m68.4 MB/s\u001b[0m eta \u001b[36m0:00:00\u001b[0m\n",
            "\u001b[?25h  Installing build dependencies ... \u001b[?25l\u001b[?25hdone\n",
            "  Getting requirements to build wheel ... \u001b[?25l\u001b[?25hdone\n",
            "  Preparing metadata (pyproject.toml) ... \u001b[?25l\u001b[?25hdone\n",
            "Collecting pytools>=2011.2 (from pycuda)\n",
            "  Downloading pytools-2022.1.14.tar.gz (74 kB)\n",
            "\u001b[2K     \u001b[90m━━━━━━━━━━━━━━━━━━━━━━━━━━━━━━━━━━━━━━━━\u001b[0m \u001b[32m74.6/74.6 kB\u001b[0m \u001b[31m10.8 MB/s\u001b[0m eta \u001b[36m0:00:00\u001b[0m\n",
            "\u001b[?25h  Preparing metadata (setup.py) ... \u001b[?25l\u001b[?25hdone\n",
            "Requirement already satisfied: appdirs>=1.4.0 in /usr/local/lib/python3.10/dist-packages (from pycuda) (1.4.4)\n",
            "Collecting mako (from pycuda)\n",
            "  Downloading Mako-1.2.4-py3-none-any.whl (78 kB)\n",
            "\u001b[2K     \u001b[90m━━━━━━━━━━━━━━━━━━━━━━━━━━━━━━━━━━━━━━━━\u001b[0m \u001b[32m78.7/78.7 kB\u001b[0m \u001b[31m12.2 MB/s\u001b[0m eta \u001b[36m0:00:00\u001b[0m\n",
            "\u001b[?25hRequirement already satisfied: platformdirs>=2.2.0 in /usr/local/lib/python3.10/dist-packages (from pytools>=2011.2->pycuda) (3.3.0)\n",
            "Requirement already satisfied: typing_extensions>=4.0 in /usr/local/lib/python3.10/dist-packages (from pytools>=2011.2->pycuda) (4.5.0)\n",
            "Requirement already satisfied: MarkupSafe>=0.9.2 in /usr/local/lib/python3.10/dist-packages (from mako->pycuda) (2.1.2)\n",
            "Building wheels for collected packages: pycuda, pytools\n",
            "  Building wheel for pycuda (pyproject.toml) ... \u001b[?25l\u001b[?25hdone\n",
            "  Created wheel for pycuda: filename=pycuda-2022.2.2-cp310-cp310-linux_x86_64.whl size=661975 sha256=fbfd5d1dfafb680dd345eb08630667541e9861a6ce0d703454d568374dfc2e12\n",
            "  Stored in directory: /root/.cache/pip/wheels/1d/7b/06/82a395a243fce00035dea9914d92bbef0013401497d849f8bc\n",
            "  Building wheel for pytools (setup.py) ... \u001b[?25l\u001b[?25hdone\n",
            "  Created wheel for pytools: filename=pytools-2022.1.14-py2.py3-none-any.whl size=69855 sha256=517bc050be3a147edbacc883971e0d8af16b73eb50788da8ae02d0d045ca8547\n",
            "  Stored in directory: /root/.cache/pip/wheels/19/02/16/aa2498ad7aa723a149ff7539f1918509661c0ae9d975b44b6d\n",
            "Successfully built pycuda pytools\n",
            "Installing collected packages: pytools, mako, pycuda\n",
            "Successfully installed mako-1.2.4 pycuda-2022.2.2 pytools-2022.1.14\n",
            "Reading package lists... Done\n",
            "Building dependency tree       \n",
            "Reading state information... Done\n",
            "E: Unable to locate package libcusparse8.0\n",
            "E: Couldn't find any package by glob 'libcusparse8.0'\n",
            "E: Couldn't find any package by regex 'libcusparse8.0'\n",
            "E: Unable to locate package libcudnn7\n"
          ]
        }
      ]
    },
    {
      "cell_type": "code",
      "source": [
        "from google.colab import drive\n",
        "drive.mount('/content/drive')"
      ],
      "metadata": {
        "colab": {
          "base_uri": "https://localhost:8080/"
        },
        "id": "JoAc_WSQcKj9",
        "outputId": "ceff3a62-4314-4a2e-ff77-e141fab7854e"
      },
      "execution_count": null,
      "outputs": [
        {
          "output_type": "stream",
          "name": "stdout",
          "text": [
            "Mounted at /content/drive\n"
          ]
        }
      ]
    },
    {
      "cell_type": "code",
      "source": [
        "%cd '/content/drive/MyDrive/DL'"
      ],
      "metadata": {
        "colab": {
          "base_uri": "https://localhost:8080/"
        },
        "id": "OljWZCt3avVQ",
        "outputId": "733f3b55-0227-43ae-f675-e12802e19699"
      },
      "execution_count": null,
      "outputs": [
        {
          "output_type": "stream",
          "name": "stdout",
          "text": [
            "/content/drive/MyDrive/DL\n"
          ]
        }
      ]
    },
    {
      "cell_type": "markdown",
      "source": [
        "## Load and join all the datasets for Vent"
      ],
      "metadata": {
        "id": "-eL2zBAda12F"
      }
    },
    {
      "cell_type": "code",
      "source": [
        "# Load Vent dataset\n",
        "import pandas as pd\n",
        "vents = pd.read_csv('vents.csv')\n",
        "vents.head()"
      ],
      "metadata": {
        "id": "4cHXAyHPa-Vl"
      },
      "execution_count": null,
      "outputs": []
    },
    {
      "cell_type": "code",
      "source": [
        "# Load emotion_categories dataset\n",
        "emotion_categories = pd.read_csv('emotion_categories.csv')\n",
        "emotion_categories"
      ],
      "metadata": {
        "id": "CL_ZWS7jbIlP"
      },
      "execution_count": null,
      "outputs": []
    },
    {
      "cell_type": "code",
      "source": [
        "# Load emotions dataset\n",
        "emotions = pd.read_csv('emotions.csv')\n",
        "emotions"
      ],
      "metadata": {
        "id": "gHvNWc6ybJ8r"
      },
      "execution_count": null,
      "outputs": []
    },
    {
      "cell_type": "code",
      "source": [
        "# Join emotion_categories and emotions on the common column 'id' and 'emotion_category_id'\n",
        "merged_df = pd.merge(emotion_categories, emotions,  how='inner',left_on='id', right_on='emotion_category_id')\n",
        "\n",
        "# Print the merged dataframe\n",
        "merged_df"
      ],
      "metadata": {
        "id": "0ibpQL81bKfZ"
      },
      "execution_count": null,
      "outputs": []
    },
    {
      "cell_type": "code",
      "source": [
        "# Extract category == \"Feelings\"\n",
        "label_feelings_df = merged_df[merged_df['name_x'].str.contains('Feelings')]\n",
        "label_feelings_df"
      ],
      "metadata": {
        "id": "PziqUK5qbXS9"
      },
      "execution_count": null,
      "outputs": []
    },
    {
      "cell_type": "code",
      "source": [
        "#select the specific emotion id with the emotion name\n",
        "feeling_label = label_feelings_df[['id_y', 'name_y']]\n",
        "feeling_label.head()"
      ],
      "metadata": {
        "colab": {
          "base_uri": "https://localhost:8080/",
          "height": 206
        },
        "id": "a-pZMDgLbY8M",
        "outputId": "a77afc18-f7ae-48cd-cba7-50c080b21b14"
      },
      "execution_count": null,
      "outputs": [
        {
          "output_type": "execute_result",
          "data": {
            "text/plain": [
              "                                     id_y      name_y\n",
              "218  c0dd0bcf-81c3-48d8-b75b-e150c24162bc      Hungry\n",
              "219  2ca41655-7436-4a50-81b4-8d209c5df984   Confident\n",
              "220  a4dfef40-f02f-4ddc-9dfa-e156e4375346        Hurt\n",
              "221  7bdc7c69-4263-434f-9322-507bcafba2da  ☘FESTIVE ☘\n",
              "222  8c5cc6c1-46fd-4a73-8899-9cda247755cb  😇 HONEST 😇"
            ],
            "text/html": [
              "\n",
              "  <div id=\"df-262ed699-427d-42f2-b790-e42b262c6fd4\">\n",
              "    <div class=\"colab-df-container\">\n",
              "      <div>\n",
              "<style scoped>\n",
              "    .dataframe tbody tr th:only-of-type {\n",
              "        vertical-align: middle;\n",
              "    }\n",
              "\n",
              "    .dataframe tbody tr th {\n",
              "        vertical-align: top;\n",
              "    }\n",
              "\n",
              "    .dataframe thead th {\n",
              "        text-align: right;\n",
              "    }\n",
              "</style>\n",
              "<table border=\"1\" class=\"dataframe\">\n",
              "  <thead>\n",
              "    <tr style=\"text-align: right;\">\n",
              "      <th></th>\n",
              "      <th>id_y</th>\n",
              "      <th>name_y</th>\n",
              "    </tr>\n",
              "  </thead>\n",
              "  <tbody>\n",
              "    <tr>\n",
              "      <th>218</th>\n",
              "      <td>c0dd0bcf-81c3-48d8-b75b-e150c24162bc</td>\n",
              "      <td>Hungry</td>\n",
              "    </tr>\n",
              "    <tr>\n",
              "      <th>219</th>\n",
              "      <td>2ca41655-7436-4a50-81b4-8d209c5df984</td>\n",
              "      <td>Confident</td>\n",
              "    </tr>\n",
              "    <tr>\n",
              "      <th>220</th>\n",
              "      <td>a4dfef40-f02f-4ddc-9dfa-e156e4375346</td>\n",
              "      <td>Hurt</td>\n",
              "    </tr>\n",
              "    <tr>\n",
              "      <th>221</th>\n",
              "      <td>7bdc7c69-4263-434f-9322-507bcafba2da</td>\n",
              "      <td>☘FESTIVE ☘</td>\n",
              "    </tr>\n",
              "    <tr>\n",
              "      <th>222</th>\n",
              "      <td>8c5cc6c1-46fd-4a73-8899-9cda247755cb</td>\n",
              "      <td>😇 HONEST 😇</td>\n",
              "    </tr>\n",
              "  </tbody>\n",
              "</table>\n",
              "</div>\n",
              "      <button class=\"colab-df-convert\" onclick=\"convertToInteractive('df-262ed699-427d-42f2-b790-e42b262c6fd4')\"\n",
              "              title=\"Convert this dataframe to an interactive table.\"\n",
              "              style=\"display:none;\">\n",
              "        \n",
              "  <svg xmlns=\"http://www.w3.org/2000/svg\" height=\"24px\"viewBox=\"0 0 24 24\"\n",
              "       width=\"24px\">\n",
              "    <path d=\"M0 0h24v24H0V0z\" fill=\"none\"/>\n",
              "    <path d=\"M18.56 5.44l.94 2.06.94-2.06 2.06-.94-2.06-.94-.94-2.06-.94 2.06-2.06.94zm-11 1L8.5 8.5l.94-2.06 2.06-.94-2.06-.94L8.5 2.5l-.94 2.06-2.06.94zm10 10l.94 2.06.94-2.06 2.06-.94-2.06-.94-.94-2.06-.94 2.06-2.06.94z\"/><path d=\"M17.41 7.96l-1.37-1.37c-.4-.4-.92-.59-1.43-.59-.52 0-1.04.2-1.43.59L10.3 9.45l-7.72 7.72c-.78.78-.78 2.05 0 2.83L4 21.41c.39.39.9.59 1.41.59.51 0 1.02-.2 1.41-.59l7.78-7.78 2.81-2.81c.8-.78.8-2.07 0-2.86zM5.41 20L4 18.59l7.72-7.72 1.47 1.35L5.41 20z\"/>\n",
              "  </svg>\n",
              "      </button>\n",
              "      \n",
              "  <style>\n",
              "    .colab-df-container {\n",
              "      display:flex;\n",
              "      flex-wrap:wrap;\n",
              "      gap: 12px;\n",
              "    }\n",
              "\n",
              "    .colab-df-convert {\n",
              "      background-color: #E8F0FE;\n",
              "      border: none;\n",
              "      border-radius: 50%;\n",
              "      cursor: pointer;\n",
              "      display: none;\n",
              "      fill: #1967D2;\n",
              "      height: 32px;\n",
              "      padding: 0 0 0 0;\n",
              "      width: 32px;\n",
              "    }\n",
              "\n",
              "    .colab-df-convert:hover {\n",
              "      background-color: #E2EBFA;\n",
              "      box-shadow: 0px 1px 2px rgba(60, 64, 67, 0.3), 0px 1px 3px 1px rgba(60, 64, 67, 0.15);\n",
              "      fill: #174EA6;\n",
              "    }\n",
              "\n",
              "    [theme=dark] .colab-df-convert {\n",
              "      background-color: #3B4455;\n",
              "      fill: #D2E3FC;\n",
              "    }\n",
              "\n",
              "    [theme=dark] .colab-df-convert:hover {\n",
              "      background-color: #434B5C;\n",
              "      box-shadow: 0px 1px 3px 1px rgba(0, 0, 0, 0.15);\n",
              "      filter: drop-shadow(0px 1px 2px rgba(0, 0, 0, 0.3));\n",
              "      fill: #FFFFFF;\n",
              "    }\n",
              "  </style>\n",
              "\n",
              "      <script>\n",
              "        const buttonEl =\n",
              "          document.querySelector('#df-262ed699-427d-42f2-b790-e42b262c6fd4 button.colab-df-convert');\n",
              "        buttonEl.style.display =\n",
              "          google.colab.kernel.accessAllowed ? 'block' : 'none';\n",
              "\n",
              "        async function convertToInteractive(key) {\n",
              "          const element = document.querySelector('#df-262ed699-427d-42f2-b790-e42b262c6fd4');\n",
              "          const dataTable =\n",
              "            await google.colab.kernel.invokeFunction('convertToInteractive',\n",
              "                                                     [key], {});\n",
              "          if (!dataTable) return;\n",
              "\n",
              "          const docLinkHtml = 'Like what you see? Visit the ' +\n",
              "            '<a target=\"_blank\" href=https://colab.research.google.com/notebooks/data_table.ipynb>data table notebook</a>'\n",
              "            + ' to learn more about interactive tables.';\n",
              "          element.innerHTML = '';\n",
              "          dataTable['output_type'] = 'display_data';\n",
              "          await google.colab.output.renderOutput(dataTable, element);\n",
              "          const docLink = document.createElement('div');\n",
              "          docLink.innerHTML = docLinkHtml;\n",
              "          element.appendChild(docLink);\n",
              "        }\n",
              "      </script>\n",
              "    </div>\n",
              "  </div>\n",
              "  "
            ]
          },
          "metadata": {},
          "execution_count": 15
        }
      ]
    },
    {
      "cell_type": "code",
      "source": [
        "# Join Feeling_label with vent to get text along with specific emotion\n",
        "merged_feeling_text_df = pd.merge(feeling_label, vents,  how='inner',left_on='id_y', right_on='emotion_id')\n",
        "merged_feeling_text_df.head()"
      ],
      "metadata": {
        "colab": {
          "base_uri": "https://localhost:8080/",
          "height": 206
        },
        "id": "zM0yclJ0baX8",
        "outputId": "9e930f18-1247-4905-c9f8-092b3173c8ac"
      },
      "execution_count": null,
      "outputs": [
        {
          "output_type": "execute_result",
          "data": {
            "text/plain": [
              "                                   id_y  name_y  \\\n",
              "0  c0dd0bcf-81c3-48d8-b75b-e150c24162bc  Hungry   \n",
              "1  c0dd0bcf-81c3-48d8-b75b-e150c24162bc  Hungry   \n",
              "2  c0dd0bcf-81c3-48d8-b75b-e150c24162bc  Hungry   \n",
              "3  c0dd0bcf-81c3-48d8-b75b-e150c24162bc  Hungry   \n",
              "4  c0dd0bcf-81c3-48d8-b75b-e150c24162bc  Hungry   \n",
              "\n",
              "                             emotion_id                               user_id  \\\n",
              "0  c0dd0bcf-81c3-48d8-b75b-e150c24162bc  3d84e6de-51dd-46dd-8eb1-7417cdcbb41c   \n",
              "1  c0dd0bcf-81c3-48d8-b75b-e150c24162bc  3d84e6de-51dd-46dd-8eb1-7417cdcbb41c   \n",
              "2  c0dd0bcf-81c3-48d8-b75b-e150c24162bc  3d84e6de-51dd-46dd-8eb1-7417cdcbb41c   \n",
              "3  c0dd0bcf-81c3-48d8-b75b-e150c24162bc  bde48414-c86e-398f-bfd1-1c00c0f941d4   \n",
              "4  c0dd0bcf-81c3-48d8-b75b-e150c24162bc  cde621f6-965e-491d-a5c4-92b0247994bc   \n",
              "\n",
              "                created_at  reactions  \\\n",
              "0  2015-12-03 03:09:30.627        0.0   \n",
              "1  2015-11-21 16:26:33.627        4.0   \n",
              "2  2015-11-17 16:24:22.192        6.0   \n",
              "3  2016-07-30 19:40:43.437        0.0   \n",
              "4  2016-01-21 11:27:13.498        3.0   \n",
              "\n",
              "                                                text  \n",
              "0               Omg I eat too much I need to stop fr  \n",
              "1                         Im starving.... Literally   \n",
              "2  I always have a snack before my meals cause I ...  \n",
              "3                                          UGHHHHHH   \n",
              "4                   CRAVING FOR PIZZA AND SIOMAI. 😣😣  "
            ],
            "text/html": [
              "\n",
              "  <div id=\"df-aad91c63-63cf-4b3a-8b0c-7d190a454175\">\n",
              "    <div class=\"colab-df-container\">\n",
              "      <div>\n",
              "<style scoped>\n",
              "    .dataframe tbody tr th:only-of-type {\n",
              "        vertical-align: middle;\n",
              "    }\n",
              "\n",
              "    .dataframe tbody tr th {\n",
              "        vertical-align: top;\n",
              "    }\n",
              "\n",
              "    .dataframe thead th {\n",
              "        text-align: right;\n",
              "    }\n",
              "</style>\n",
              "<table border=\"1\" class=\"dataframe\">\n",
              "  <thead>\n",
              "    <tr style=\"text-align: right;\">\n",
              "      <th></th>\n",
              "      <th>id_y</th>\n",
              "      <th>name_y</th>\n",
              "      <th>emotion_id</th>\n",
              "      <th>user_id</th>\n",
              "      <th>created_at</th>\n",
              "      <th>reactions</th>\n",
              "      <th>text</th>\n",
              "    </tr>\n",
              "  </thead>\n",
              "  <tbody>\n",
              "    <tr>\n",
              "      <th>0</th>\n",
              "      <td>c0dd0bcf-81c3-48d8-b75b-e150c24162bc</td>\n",
              "      <td>Hungry</td>\n",
              "      <td>c0dd0bcf-81c3-48d8-b75b-e150c24162bc</td>\n",
              "      <td>3d84e6de-51dd-46dd-8eb1-7417cdcbb41c</td>\n",
              "      <td>2015-12-03 03:09:30.627</td>\n",
              "      <td>0.0</td>\n",
              "      <td>Omg I eat too much I need to stop fr</td>\n",
              "    </tr>\n",
              "    <tr>\n",
              "      <th>1</th>\n",
              "      <td>c0dd0bcf-81c3-48d8-b75b-e150c24162bc</td>\n",
              "      <td>Hungry</td>\n",
              "      <td>c0dd0bcf-81c3-48d8-b75b-e150c24162bc</td>\n",
              "      <td>3d84e6de-51dd-46dd-8eb1-7417cdcbb41c</td>\n",
              "      <td>2015-11-21 16:26:33.627</td>\n",
              "      <td>4.0</td>\n",
              "      <td>Im starving.... Literally</td>\n",
              "    </tr>\n",
              "    <tr>\n",
              "      <th>2</th>\n",
              "      <td>c0dd0bcf-81c3-48d8-b75b-e150c24162bc</td>\n",
              "      <td>Hungry</td>\n",
              "      <td>c0dd0bcf-81c3-48d8-b75b-e150c24162bc</td>\n",
              "      <td>3d84e6de-51dd-46dd-8eb1-7417cdcbb41c</td>\n",
              "      <td>2015-11-17 16:24:22.192</td>\n",
              "      <td>6.0</td>\n",
              "      <td>I always have a snack before my meals cause I ...</td>\n",
              "    </tr>\n",
              "    <tr>\n",
              "      <th>3</th>\n",
              "      <td>c0dd0bcf-81c3-48d8-b75b-e150c24162bc</td>\n",
              "      <td>Hungry</td>\n",
              "      <td>c0dd0bcf-81c3-48d8-b75b-e150c24162bc</td>\n",
              "      <td>bde48414-c86e-398f-bfd1-1c00c0f941d4</td>\n",
              "      <td>2016-07-30 19:40:43.437</td>\n",
              "      <td>0.0</td>\n",
              "      <td>UGHHHHHH</td>\n",
              "    </tr>\n",
              "    <tr>\n",
              "      <th>4</th>\n",
              "      <td>c0dd0bcf-81c3-48d8-b75b-e150c24162bc</td>\n",
              "      <td>Hungry</td>\n",
              "      <td>c0dd0bcf-81c3-48d8-b75b-e150c24162bc</td>\n",
              "      <td>cde621f6-965e-491d-a5c4-92b0247994bc</td>\n",
              "      <td>2016-01-21 11:27:13.498</td>\n",
              "      <td>3.0</td>\n",
              "      <td>CRAVING FOR PIZZA AND SIOMAI. 😣😣</td>\n",
              "    </tr>\n",
              "  </tbody>\n",
              "</table>\n",
              "</div>\n",
              "      <button class=\"colab-df-convert\" onclick=\"convertToInteractive('df-aad91c63-63cf-4b3a-8b0c-7d190a454175')\"\n",
              "              title=\"Convert this dataframe to an interactive table.\"\n",
              "              style=\"display:none;\">\n",
              "        \n",
              "  <svg xmlns=\"http://www.w3.org/2000/svg\" height=\"24px\"viewBox=\"0 0 24 24\"\n",
              "       width=\"24px\">\n",
              "    <path d=\"M0 0h24v24H0V0z\" fill=\"none\"/>\n",
              "    <path d=\"M18.56 5.44l.94 2.06.94-2.06 2.06-.94-2.06-.94-.94-2.06-.94 2.06-2.06.94zm-11 1L8.5 8.5l.94-2.06 2.06-.94-2.06-.94L8.5 2.5l-.94 2.06-2.06.94zm10 10l.94 2.06.94-2.06 2.06-.94-2.06-.94-.94-2.06-.94 2.06-2.06.94z\"/><path d=\"M17.41 7.96l-1.37-1.37c-.4-.4-.92-.59-1.43-.59-.52 0-1.04.2-1.43.59L10.3 9.45l-7.72 7.72c-.78.78-.78 2.05 0 2.83L4 21.41c.39.39.9.59 1.41.59.51 0 1.02-.2 1.41-.59l7.78-7.78 2.81-2.81c.8-.78.8-2.07 0-2.86zM5.41 20L4 18.59l7.72-7.72 1.47 1.35L5.41 20z\"/>\n",
              "  </svg>\n",
              "      </button>\n",
              "      \n",
              "  <style>\n",
              "    .colab-df-container {\n",
              "      display:flex;\n",
              "      flex-wrap:wrap;\n",
              "      gap: 12px;\n",
              "    }\n",
              "\n",
              "    .colab-df-convert {\n",
              "      background-color: #E8F0FE;\n",
              "      border: none;\n",
              "      border-radius: 50%;\n",
              "      cursor: pointer;\n",
              "      display: none;\n",
              "      fill: #1967D2;\n",
              "      height: 32px;\n",
              "      padding: 0 0 0 0;\n",
              "      width: 32px;\n",
              "    }\n",
              "\n",
              "    .colab-df-convert:hover {\n",
              "      background-color: #E2EBFA;\n",
              "      box-shadow: 0px 1px 2px rgba(60, 64, 67, 0.3), 0px 1px 3px 1px rgba(60, 64, 67, 0.15);\n",
              "      fill: #174EA6;\n",
              "    }\n",
              "\n",
              "    [theme=dark] .colab-df-convert {\n",
              "      background-color: #3B4455;\n",
              "      fill: #D2E3FC;\n",
              "    }\n",
              "\n",
              "    [theme=dark] .colab-df-convert:hover {\n",
              "      background-color: #434B5C;\n",
              "      box-shadow: 0px 1px 3px 1px rgba(0, 0, 0, 0.15);\n",
              "      filter: drop-shadow(0px 1px 2px rgba(0, 0, 0, 0.3));\n",
              "      fill: #FFFFFF;\n",
              "    }\n",
              "  </style>\n",
              "\n",
              "      <script>\n",
              "        const buttonEl =\n",
              "          document.querySelector('#df-aad91c63-63cf-4b3a-8b0c-7d190a454175 button.colab-df-convert');\n",
              "        buttonEl.style.display =\n",
              "          google.colab.kernel.accessAllowed ? 'block' : 'none';\n",
              "\n",
              "        async function convertToInteractive(key) {\n",
              "          const element = document.querySelector('#df-aad91c63-63cf-4b3a-8b0c-7d190a454175');\n",
              "          const dataTable =\n",
              "            await google.colab.kernel.invokeFunction('convertToInteractive',\n",
              "                                                     [key], {});\n",
              "          if (!dataTable) return;\n",
              "\n",
              "          const docLinkHtml = 'Like what you see? Visit the ' +\n",
              "            '<a target=\"_blank\" href=https://colab.research.google.com/notebooks/data_table.ipynb>data table notebook</a>'\n",
              "            + ' to learn more about interactive tables.';\n",
              "          element.innerHTML = '';\n",
              "          dataTable['output_type'] = 'display_data';\n",
              "          await google.colab.output.renderOutput(dataTable, element);\n",
              "          const docLink = document.createElement('div');\n",
              "          docLink.innerHTML = docLinkHtml;\n",
              "          element.appendChild(docLink);\n",
              "        }\n",
              "      </script>\n",
              "    </div>\n",
              "  </div>\n",
              "  "
            ]
          },
          "metadata": {},
          "execution_count": 16
        }
      ]
    },
    {
      "cell_type": "code",
      "source": [
        "merged_feeling_text_df.shape"
      ],
      "metadata": {
        "colab": {
          "base_uri": "https://localhost:8080/"
        },
        "id": "BvP7oI7ubb5G",
        "outputId": "50573f6d-3ede-4685-8373-f18e462adc16"
      },
      "execution_count": null,
      "outputs": [
        {
          "output_type": "execute_result",
          "data": {
            "text/plain": [
              "(4359045, 7)"
            ]
          },
          "metadata": {},
          "execution_count": 17
        }
      ]
    },
    {
      "cell_type": "markdown",
      "source": [
        "## Vent Data Cleaning, binarized and Sampling"
      ],
      "metadata": {
        "id": "raW07MSscU4L"
      }
    },
    {
      "cell_type": "code",
      "source": [
        "import re"
      ],
      "metadata": {
        "id": "MzMt6uCJcWcK"
      },
      "execution_count": null,
      "outputs": []
    },
    {
      "cell_type": "code",
      "source": [
        "# Remove comments with unwanted patterns (single character space, special character, emojis etc.)\n",
        "# Function to remove emojis\n",
        "def remove_emojis(data):\n",
        "    emoj = re.compile(\"[\"\n",
        "                      u\"\\U0001F600-\\U0001F64F\"  # emoticons\n",
        "                      u\"\\U0001F300-\\U0001F5FF\"  # symbols & pictographs\n",
        "                      u\"\\U0001F680-\\U0001F6FF\"  # transport & map symbols\n",
        "                      u\"\\U0001F1E0-\\U0001F1FF\"  # flags (iOS)\n",
        "                      u\"\\U00002500-\\U00002BEF\"  # chinese characters\n",
        "                      u\"\\U00002702-\\U000027B0\"\n",
        "                      u\"\\U00002702-\\U000027B0\"\n",
        "                      u\"\\U000024C2-\\U0001F251\"\n",
        "                      u\"\\U0001f926-\\U0001f937\"\n",
        "                      u\"\\U00010000-\\U0010ffff\"\n",
        "                      u\"\\u2640-\\u2642\"\n",
        "                      u\"\\u2600-\\u2B55\"\n",
        "                      u\"\\u200d\"\n",
        "                      u\"\\u23cf\"\n",
        "                      u\"\\u23e9\"\n",
        "                      u\"\\u231a\"\n",
        "                      u\"\\ufe0f\"  # dingbats\n",
        "                      u\"\\u3030\"\n",
        "                      \"]+\", re.UNICODE)\n",
        "    return re.sub(emoj, '', data)\n",
        "\n",
        "# Removing single character spaces, special characters, and emojis\n",
        "#merged_feeling_text_df['text'] = merged_feeling_text_df['text'].apply(lambda x: re.sub(r'\\W|\\b\\w\\b', ' ', x)) # Remove single character and special characters\n",
        "# Clean text data\n",
        "def clean_text(text):\n",
        "    # Remove non-ascii characters\n",
        "    text = text.encode(\"ascii\", errors=\"ignore\").decode()\n",
        "    # Remove URLs\n",
        "    text = re.sub(r'http\\S+|www.\\S+', '', text, flags=re.MULTILINE)\n",
        "    # Remove all the special characters\n",
        "    text = ' '.join(re.findall(r'\\b\\w+\\b', text))\n",
        "    # Single character removal\n",
        "    text = re.sub(r'\\s+[a-zA-Z]\\s+', ' ', text)\n",
        "    # Removing multiple spaces\n",
        "    text = re.sub(r'\\s+', ' ', text, flags=re.I)\n",
        "    # Remove empty or only space-containing cells\n",
        "    if text.strip() == \"\":\n",
        "        return None\n",
        "\n",
        "    # Substitute overlong sequences of identical characters (more than 2)\n",
        "    text = re.sub(r'(.)\\1{2,}', r'\\1', text)\n",
        "    return text\n",
        "\n",
        "merged_feeling_text_df['text'] = merged_feeling_text_df['text'].apply(remove_emojis) # Remove emojis\n",
        "merged_feeling_text_df['text'] = merged_feeling_text_df['text'].apply(clean_text)\n",
        "merged_feeling_text_df = merged_feeling_text_df[merged_feeling_text_df['text'].notna()]\n",
        "\n",
        "\n",
        "# Drop null values\n",
        "merged_feeling_text_df = merged_feeling_text_df.dropna(subset=['text'])\n",
        "\n",
        "# Print the updated dataframe\n",
        "print(merged_feeling_text_df.head())"
      ],
      "metadata": {
        "colab": {
          "base_uri": "https://localhost:8080/"
        },
        "id": "ZHUKFnZYcX18",
        "outputId": "8d25cc5b-c22b-4fec-c8fc-6e5f2dbe1457"
      },
      "execution_count": null,
      "outputs": [
        {
          "output_type": "stream",
          "name": "stdout",
          "text": [
            "                                   id_y  name_y  \\\n",
            "0  c0dd0bcf-81c3-48d8-b75b-e150c24162bc  Hungry   \n",
            "1  c0dd0bcf-81c3-48d8-b75b-e150c24162bc  Hungry   \n",
            "2  c0dd0bcf-81c3-48d8-b75b-e150c24162bc  Hungry   \n",
            "3  c0dd0bcf-81c3-48d8-b75b-e150c24162bc  Hungry   \n",
            "4  c0dd0bcf-81c3-48d8-b75b-e150c24162bc  Hungry   \n",
            "\n",
            "                             emotion_id                               user_id  \\\n",
            "0  c0dd0bcf-81c3-48d8-b75b-e150c24162bc  3d84e6de-51dd-46dd-8eb1-7417cdcbb41c   \n",
            "1  c0dd0bcf-81c3-48d8-b75b-e150c24162bc  3d84e6de-51dd-46dd-8eb1-7417cdcbb41c   \n",
            "2  c0dd0bcf-81c3-48d8-b75b-e150c24162bc  3d84e6de-51dd-46dd-8eb1-7417cdcbb41c   \n",
            "3  c0dd0bcf-81c3-48d8-b75b-e150c24162bc  bde48414-c86e-398f-bfd1-1c00c0f941d4   \n",
            "4  c0dd0bcf-81c3-48d8-b75b-e150c24162bc  cde621f6-965e-491d-a5c4-92b0247994bc   \n",
            "\n",
            "                created_at  reactions  \\\n",
            "0  2015-12-03 03:09:30.627        0.0   \n",
            "1  2015-11-21 16:26:33.627        4.0   \n",
            "2  2015-11-17 16:24:22.192        6.0   \n",
            "3  2016-07-30 19:40:43.437        0.0   \n",
            "4  2016-01-21 11:27:13.498        3.0   \n",
            "\n",
            "                                                text  \n",
            "0               Omg   eat too much   need to stop fr  \n",
            "1                         Im starving     Literally   \n",
            "2    always have   snack before my meals cause   ...  \n",
            "3                                          UGHHHHHH   \n",
            "4                   CRAVING FOR PIZZA AND SIOMAI      \n"
          ]
        }
      ]
    },
    {
      "cell_type": "code",
      "source": [
        "merged_feeling_text_df['text'] = merged_feeling_text_df['text'].str.lower()\n",
        "merged_feeling_text_df['text'] = merged_feeling_text_df['text'].apply(lambda x: re.sub(r'\\W+', ' ', x))"
      ],
      "metadata": {
        "id": "tjirEswQBA33"
      },
      "execution_count": null,
      "outputs": []
    },
    {
      "cell_type": "code",
      "source": [
        "# Convert all the non-guilty label into \"Non-guilty\"\n",
        "merged_feeling_text_df['name_y'] = merged_feeling_text_df['name_y'].apply(lambda x: 'Non-guilty' if x != 'Guilty' else 'Guilty')\n",
        "\n",
        "# Print the updated dataframe\n",
        "merged_feeling_text_df.head()"
      ],
      "metadata": {
        "colab": {
          "base_uri": "https://localhost:8080/",
          "height": 206
        },
        "id": "DnlUKAHRcZha",
        "outputId": "ec2135a9-3647-4505-d47d-f90b795d5732"
      },
      "execution_count": null,
      "outputs": [
        {
          "output_type": "execute_result",
          "data": {
            "text/plain": [
              "                                   id_y      name_y  \\\n",
              "0  c0dd0bcf-81c3-48d8-b75b-e150c24162bc  Non-guilty   \n",
              "1  c0dd0bcf-81c3-48d8-b75b-e150c24162bc  Non-guilty   \n",
              "2  c0dd0bcf-81c3-48d8-b75b-e150c24162bc  Non-guilty   \n",
              "3  c0dd0bcf-81c3-48d8-b75b-e150c24162bc  Non-guilty   \n",
              "4  c0dd0bcf-81c3-48d8-b75b-e150c24162bc  Non-guilty   \n",
              "\n",
              "                             emotion_id                               user_id  \\\n",
              "0  c0dd0bcf-81c3-48d8-b75b-e150c24162bc  3d84e6de-51dd-46dd-8eb1-7417cdcbb41c   \n",
              "1  c0dd0bcf-81c3-48d8-b75b-e150c24162bc  3d84e6de-51dd-46dd-8eb1-7417cdcbb41c   \n",
              "2  c0dd0bcf-81c3-48d8-b75b-e150c24162bc  3d84e6de-51dd-46dd-8eb1-7417cdcbb41c   \n",
              "3  c0dd0bcf-81c3-48d8-b75b-e150c24162bc  bde48414-c86e-398f-bfd1-1c00c0f941d4   \n",
              "4  c0dd0bcf-81c3-48d8-b75b-e150c24162bc  cde621f6-965e-491d-a5c4-92b0247994bc   \n",
              "\n",
              "                created_at  reactions  \\\n",
              "0  2015-12-03 03:09:30.627        0.0   \n",
              "1  2015-11-21 16:26:33.627        4.0   \n",
              "2  2015-11-17 16:24:22.192        6.0   \n",
              "3  2016-07-30 19:40:43.437        0.0   \n",
              "4  2016-01-21 11:27:13.498        3.0   \n",
              "\n",
              "                                                text  \n",
              "0               Omg   eat too much   need to stop fr  \n",
              "1                         Im starving     Literally   \n",
              "2    always have   snack before my meals cause   ...  \n",
              "3                                          UGHHHHHH   \n",
              "4                   CRAVING FOR PIZZA AND SIOMAI      "
            ],
            "text/html": [
              "\n",
              "  <div id=\"df-d04e8f67-dd99-4e5c-987d-fadf003260bd\">\n",
              "    <div class=\"colab-df-container\">\n",
              "      <div>\n",
              "<style scoped>\n",
              "    .dataframe tbody tr th:only-of-type {\n",
              "        vertical-align: middle;\n",
              "    }\n",
              "\n",
              "    .dataframe tbody tr th {\n",
              "        vertical-align: top;\n",
              "    }\n",
              "\n",
              "    .dataframe thead th {\n",
              "        text-align: right;\n",
              "    }\n",
              "</style>\n",
              "<table border=\"1\" class=\"dataframe\">\n",
              "  <thead>\n",
              "    <tr style=\"text-align: right;\">\n",
              "      <th></th>\n",
              "      <th>id_y</th>\n",
              "      <th>name_y</th>\n",
              "      <th>emotion_id</th>\n",
              "      <th>user_id</th>\n",
              "      <th>created_at</th>\n",
              "      <th>reactions</th>\n",
              "      <th>text</th>\n",
              "    </tr>\n",
              "  </thead>\n",
              "  <tbody>\n",
              "    <tr>\n",
              "      <th>0</th>\n",
              "      <td>c0dd0bcf-81c3-48d8-b75b-e150c24162bc</td>\n",
              "      <td>Non-guilty</td>\n",
              "      <td>c0dd0bcf-81c3-48d8-b75b-e150c24162bc</td>\n",
              "      <td>3d84e6de-51dd-46dd-8eb1-7417cdcbb41c</td>\n",
              "      <td>2015-12-03 03:09:30.627</td>\n",
              "      <td>0.0</td>\n",
              "      <td>Omg   eat too much   need to stop fr</td>\n",
              "    </tr>\n",
              "    <tr>\n",
              "      <th>1</th>\n",
              "      <td>c0dd0bcf-81c3-48d8-b75b-e150c24162bc</td>\n",
              "      <td>Non-guilty</td>\n",
              "      <td>c0dd0bcf-81c3-48d8-b75b-e150c24162bc</td>\n",
              "      <td>3d84e6de-51dd-46dd-8eb1-7417cdcbb41c</td>\n",
              "      <td>2015-11-21 16:26:33.627</td>\n",
              "      <td>4.0</td>\n",
              "      <td>Im starving     Literally</td>\n",
              "    </tr>\n",
              "    <tr>\n",
              "      <th>2</th>\n",
              "      <td>c0dd0bcf-81c3-48d8-b75b-e150c24162bc</td>\n",
              "      <td>Non-guilty</td>\n",
              "      <td>c0dd0bcf-81c3-48d8-b75b-e150c24162bc</td>\n",
              "      <td>3d84e6de-51dd-46dd-8eb1-7417cdcbb41c</td>\n",
              "      <td>2015-11-17 16:24:22.192</td>\n",
              "      <td>6.0</td>\n",
              "      <td>always have   snack before my meals cause   ...</td>\n",
              "    </tr>\n",
              "    <tr>\n",
              "      <th>3</th>\n",
              "      <td>c0dd0bcf-81c3-48d8-b75b-e150c24162bc</td>\n",
              "      <td>Non-guilty</td>\n",
              "      <td>c0dd0bcf-81c3-48d8-b75b-e150c24162bc</td>\n",
              "      <td>bde48414-c86e-398f-bfd1-1c00c0f941d4</td>\n",
              "      <td>2016-07-30 19:40:43.437</td>\n",
              "      <td>0.0</td>\n",
              "      <td>UGHHHHHH</td>\n",
              "    </tr>\n",
              "    <tr>\n",
              "      <th>4</th>\n",
              "      <td>c0dd0bcf-81c3-48d8-b75b-e150c24162bc</td>\n",
              "      <td>Non-guilty</td>\n",
              "      <td>c0dd0bcf-81c3-48d8-b75b-e150c24162bc</td>\n",
              "      <td>cde621f6-965e-491d-a5c4-92b0247994bc</td>\n",
              "      <td>2016-01-21 11:27:13.498</td>\n",
              "      <td>3.0</td>\n",
              "      <td>CRAVING FOR PIZZA AND SIOMAI</td>\n",
              "    </tr>\n",
              "  </tbody>\n",
              "</table>\n",
              "</div>\n",
              "      <button class=\"colab-df-convert\" onclick=\"convertToInteractive('df-d04e8f67-dd99-4e5c-987d-fadf003260bd')\"\n",
              "              title=\"Convert this dataframe to an interactive table.\"\n",
              "              style=\"display:none;\">\n",
              "        \n",
              "  <svg xmlns=\"http://www.w3.org/2000/svg\" height=\"24px\"viewBox=\"0 0 24 24\"\n",
              "       width=\"24px\">\n",
              "    <path d=\"M0 0h24v24H0V0z\" fill=\"none\"/>\n",
              "    <path d=\"M18.56 5.44l.94 2.06.94-2.06 2.06-.94-2.06-.94-.94-2.06-.94 2.06-2.06.94zm-11 1L8.5 8.5l.94-2.06 2.06-.94-2.06-.94L8.5 2.5l-.94 2.06-2.06.94zm10 10l.94 2.06.94-2.06 2.06-.94-2.06-.94-.94-2.06-.94 2.06-2.06.94z\"/><path d=\"M17.41 7.96l-1.37-1.37c-.4-.4-.92-.59-1.43-.59-.52 0-1.04.2-1.43.59L10.3 9.45l-7.72 7.72c-.78.78-.78 2.05 0 2.83L4 21.41c.39.39.9.59 1.41.59.51 0 1.02-.2 1.41-.59l7.78-7.78 2.81-2.81c.8-.78.8-2.07 0-2.86zM5.41 20L4 18.59l7.72-7.72 1.47 1.35L5.41 20z\"/>\n",
              "  </svg>\n",
              "      </button>\n",
              "      \n",
              "  <style>\n",
              "    .colab-df-container {\n",
              "      display:flex;\n",
              "      flex-wrap:wrap;\n",
              "      gap: 12px;\n",
              "    }\n",
              "\n",
              "    .colab-df-convert {\n",
              "      background-color: #E8F0FE;\n",
              "      border: none;\n",
              "      border-radius: 50%;\n",
              "      cursor: pointer;\n",
              "      display: none;\n",
              "      fill: #1967D2;\n",
              "      height: 32px;\n",
              "      padding: 0 0 0 0;\n",
              "      width: 32px;\n",
              "    }\n",
              "\n",
              "    .colab-df-convert:hover {\n",
              "      background-color: #E2EBFA;\n",
              "      box-shadow: 0px 1px 2px rgba(60, 64, 67, 0.3), 0px 1px 3px 1px rgba(60, 64, 67, 0.15);\n",
              "      fill: #174EA6;\n",
              "    }\n",
              "\n",
              "    [theme=dark] .colab-df-convert {\n",
              "      background-color: #3B4455;\n",
              "      fill: #D2E3FC;\n",
              "    }\n",
              "\n",
              "    [theme=dark] .colab-df-convert:hover {\n",
              "      background-color: #434B5C;\n",
              "      box-shadow: 0px 1px 3px 1px rgba(0, 0, 0, 0.15);\n",
              "      filter: drop-shadow(0px 1px 2px rgba(0, 0, 0, 0.3));\n",
              "      fill: #FFFFFF;\n",
              "    }\n",
              "  </style>\n",
              "\n",
              "      <script>\n",
              "        const buttonEl =\n",
              "          document.querySelector('#df-d04e8f67-dd99-4e5c-987d-fadf003260bd button.colab-df-convert');\n",
              "        buttonEl.style.display =\n",
              "          google.colab.kernel.accessAllowed ? 'block' : 'none';\n",
              "\n",
              "        async function convertToInteractive(key) {\n",
              "          const element = document.querySelector('#df-d04e8f67-dd99-4e5c-987d-fadf003260bd');\n",
              "          const dataTable =\n",
              "            await google.colab.kernel.invokeFunction('convertToInteractive',\n",
              "                                                     [key], {});\n",
              "          if (!dataTable) return;\n",
              "\n",
              "          const docLinkHtml = 'Like what you see? Visit the ' +\n",
              "            '<a target=\"_blank\" href=https://colab.research.google.com/notebooks/data_table.ipynb>data table notebook</a>'\n",
              "            + ' to learn more about interactive tables.';\n",
              "          element.innerHTML = '';\n",
              "          dataTable['output_type'] = 'display_data';\n",
              "          await google.colab.output.renderOutput(dataTable, element);\n",
              "          const docLink = document.createElement('div');\n",
              "          docLink.innerHTML = docLinkHtml;\n",
              "          element.appendChild(docLink);\n",
              "        }\n",
              "      </script>\n",
              "    </div>\n",
              "  </div>\n",
              "  "
            ]
          },
          "metadata": {},
          "execution_count": 20
        }
      ]
    },
    {
      "cell_type": "code",
      "source": [
        "# Show the number of Guilty vs. Non-guilty\n",
        "merged_feeling_text_df['name_y'].value_counts()"
      ],
      "metadata": {
        "colab": {
          "base_uri": "https://localhost:8080/"
        },
        "id": "klxcGnAcccgR",
        "outputId": "811d1e03-a6e9-411c-a19b-6b3db3ba3540"
      },
      "execution_count": null,
      "outputs": [
        {
          "output_type": "execute_result",
          "data": {
            "text/plain": [
              "Non-guilty    4224611\n",
              "Guilty         134434\n",
              "Name: name_y, dtype: int64"
            ]
          },
          "metadata": {},
          "execution_count": 21
        }
      ]
    },
    {
      "cell_type": "code",
      "source": [
        "# Separate the dataframe into 'Guilty' and 'Non-guilty' dataframes\n",
        "guilty_df = merged_feeling_text_df[merged_feeling_text_df['name_y'] == 'Guilty']\n",
        "non_guilty_df = merged_feeling_text_df[merged_feeling_text_df['name_y'] == 'Non-guilty']\n",
        "\n",
        "# Sample from 'Non-guilty' dataframe\n",
        "non_guilty_sample_df = non_guilty_df.sample(n=len(guilty_df), random_state=1)\n",
        "\n",
        "# Sample 1200 texts from 'guilty' dataframe\n",
        "guilty_sample_1200 = guilty_df.sample(n=1200, random_state=1)\n",
        "\n",
        "# Sample 1048 text from non_guilty_sample_df\n",
        "non_guilty_sample_1048 = non_guilty_sample_df.sample(n=1048, random_state=1)\n",
        "\n",
        "# Concatenate the sampled 'Non-guilty' dataframe with the 'Guilty' dataframe\n",
        "balanced_df = pd.concat([guilty_sample_1200, non_guilty_sample_1048])\n",
        "\n",
        "# Print the balanced dataframe\n",
        "balanced_df.head()"
      ],
      "metadata": {
        "colab": {
          "base_uri": "https://localhost:8080/",
          "height": 206
        },
        "id": "YyQxVU8KceA3",
        "outputId": "10dda6a4-01ba-4ae6-e84f-4b6aaa596723"
      },
      "execution_count": null,
      "outputs": [
        {
          "output_type": "execute_result",
          "data": {
            "text/plain": [
              "                                        id_y  name_y  \\\n",
              "523430  42935e4e-2c07-4bda-8377-d74d4cf817d7  Guilty   \n",
              "527777  42935e4e-2c07-4bda-8377-d74d4cf817d7  Guilty   \n",
              "496512  42935e4e-2c07-4bda-8377-d74d4cf817d7  Guilty   \n",
              "548321  42935e4e-2c07-4bda-8377-d74d4cf817d7  Guilty   \n",
              "529424  42935e4e-2c07-4bda-8377-d74d4cf817d7  Guilty   \n",
              "\n",
              "                                  emotion_id  \\\n",
              "523430  42935e4e-2c07-4bda-8377-d74d4cf817d7   \n",
              "527777  42935e4e-2c07-4bda-8377-d74d4cf817d7   \n",
              "496512  42935e4e-2c07-4bda-8377-d74d4cf817d7   \n",
              "548321  42935e4e-2c07-4bda-8377-d74d4cf817d7   \n",
              "529424  42935e4e-2c07-4bda-8377-d74d4cf817d7   \n",
              "\n",
              "                                     user_id               created_at  \\\n",
              "523430  1b9773c3-139d-3a03-a431-c041890e531a  2016-06-07 20:05:18.181   \n",
              "527777  595a0ec8-78e6-3834-949c-e6142bbc4625  2016-05-12 03:10:29.347   \n",
              "496512  b67c9ff6-2775-4060-9468-66e1870d485c  2016-06-05 19:33:46.025   \n",
              "548321  baab0bcc-766b-471f-b564-00cef5d066a1  2016-06-06 20:37:07.039   \n",
              "529424  3d175b6d-1260-4d8a-a55d-c4b8123c3211  2016-07-22 01:35:55.074   \n",
              "\n",
              "        reactions                                               text  \n",
              "523430        1.0    cannot focus on anything and   feel like    ...  \n",
              "527777        4.0                                         feel dumb   \n",
              "496512       12.0  if you re tired of these fuckboys  let   lesbi...  \n",
              "548321        2.0                                                     \n",
              "529424        5.0    feel so bad for eating   meals today      sc...  "
            ],
            "text/html": [
              "\n",
              "  <div id=\"df-8e6d2da0-2966-45eb-b6af-000822467f3d\">\n",
              "    <div class=\"colab-df-container\">\n",
              "      <div>\n",
              "<style scoped>\n",
              "    .dataframe tbody tr th:only-of-type {\n",
              "        vertical-align: middle;\n",
              "    }\n",
              "\n",
              "    .dataframe tbody tr th {\n",
              "        vertical-align: top;\n",
              "    }\n",
              "\n",
              "    .dataframe thead th {\n",
              "        text-align: right;\n",
              "    }\n",
              "</style>\n",
              "<table border=\"1\" class=\"dataframe\">\n",
              "  <thead>\n",
              "    <tr style=\"text-align: right;\">\n",
              "      <th></th>\n",
              "      <th>id_y</th>\n",
              "      <th>name_y</th>\n",
              "      <th>emotion_id</th>\n",
              "      <th>user_id</th>\n",
              "      <th>created_at</th>\n",
              "      <th>reactions</th>\n",
              "      <th>text</th>\n",
              "    </tr>\n",
              "  </thead>\n",
              "  <tbody>\n",
              "    <tr>\n",
              "      <th>523430</th>\n",
              "      <td>42935e4e-2c07-4bda-8377-d74d4cf817d7</td>\n",
              "      <td>Guilty</td>\n",
              "      <td>42935e4e-2c07-4bda-8377-d74d4cf817d7</td>\n",
              "      <td>1b9773c3-139d-3a03-a431-c041890e531a</td>\n",
              "      <td>2016-06-07 20:05:18.181</td>\n",
              "      <td>1.0</td>\n",
              "      <td>cannot focus on anything and   feel like    ...</td>\n",
              "    </tr>\n",
              "    <tr>\n",
              "      <th>527777</th>\n",
              "      <td>42935e4e-2c07-4bda-8377-d74d4cf817d7</td>\n",
              "      <td>Guilty</td>\n",
              "      <td>42935e4e-2c07-4bda-8377-d74d4cf817d7</td>\n",
              "      <td>595a0ec8-78e6-3834-949c-e6142bbc4625</td>\n",
              "      <td>2016-05-12 03:10:29.347</td>\n",
              "      <td>4.0</td>\n",
              "      <td>feel dumb</td>\n",
              "    </tr>\n",
              "    <tr>\n",
              "      <th>496512</th>\n",
              "      <td>42935e4e-2c07-4bda-8377-d74d4cf817d7</td>\n",
              "      <td>Guilty</td>\n",
              "      <td>42935e4e-2c07-4bda-8377-d74d4cf817d7</td>\n",
              "      <td>b67c9ff6-2775-4060-9468-66e1870d485c</td>\n",
              "      <td>2016-06-05 19:33:46.025</td>\n",
              "      <td>12.0</td>\n",
              "      <td>if you re tired of these fuckboys  let   lesbi...</td>\n",
              "    </tr>\n",
              "    <tr>\n",
              "      <th>548321</th>\n",
              "      <td>42935e4e-2c07-4bda-8377-d74d4cf817d7</td>\n",
              "      <td>Guilty</td>\n",
              "      <td>42935e4e-2c07-4bda-8377-d74d4cf817d7</td>\n",
              "      <td>baab0bcc-766b-471f-b564-00cef5d066a1</td>\n",
              "      <td>2016-06-06 20:37:07.039</td>\n",
              "      <td>2.0</td>\n",
              "      <td></td>\n",
              "    </tr>\n",
              "    <tr>\n",
              "      <th>529424</th>\n",
              "      <td>42935e4e-2c07-4bda-8377-d74d4cf817d7</td>\n",
              "      <td>Guilty</td>\n",
              "      <td>42935e4e-2c07-4bda-8377-d74d4cf817d7</td>\n",
              "      <td>3d175b6d-1260-4d8a-a55d-c4b8123c3211</td>\n",
              "      <td>2016-07-22 01:35:55.074</td>\n",
              "      <td>5.0</td>\n",
              "      <td>feel so bad for eating   meals today      sc...</td>\n",
              "    </tr>\n",
              "  </tbody>\n",
              "</table>\n",
              "</div>\n",
              "      <button class=\"colab-df-convert\" onclick=\"convertToInteractive('df-8e6d2da0-2966-45eb-b6af-000822467f3d')\"\n",
              "              title=\"Convert this dataframe to an interactive table.\"\n",
              "              style=\"display:none;\">\n",
              "        \n",
              "  <svg xmlns=\"http://www.w3.org/2000/svg\" height=\"24px\"viewBox=\"0 0 24 24\"\n",
              "       width=\"24px\">\n",
              "    <path d=\"M0 0h24v24H0V0z\" fill=\"none\"/>\n",
              "    <path d=\"M18.56 5.44l.94 2.06.94-2.06 2.06-.94-2.06-.94-.94-2.06-.94 2.06-2.06.94zm-11 1L8.5 8.5l.94-2.06 2.06-.94-2.06-.94L8.5 2.5l-.94 2.06-2.06.94zm10 10l.94 2.06.94-2.06 2.06-.94-2.06-.94-.94-2.06-.94 2.06-2.06.94z\"/><path d=\"M17.41 7.96l-1.37-1.37c-.4-.4-.92-.59-1.43-.59-.52 0-1.04.2-1.43.59L10.3 9.45l-7.72 7.72c-.78.78-.78 2.05 0 2.83L4 21.41c.39.39.9.59 1.41.59.51 0 1.02-.2 1.41-.59l7.78-7.78 2.81-2.81c.8-.78.8-2.07 0-2.86zM5.41 20L4 18.59l7.72-7.72 1.47 1.35L5.41 20z\"/>\n",
              "  </svg>\n",
              "      </button>\n",
              "      \n",
              "  <style>\n",
              "    .colab-df-container {\n",
              "      display:flex;\n",
              "      flex-wrap:wrap;\n",
              "      gap: 12px;\n",
              "    }\n",
              "\n",
              "    .colab-df-convert {\n",
              "      background-color: #E8F0FE;\n",
              "      border: none;\n",
              "      border-radius: 50%;\n",
              "      cursor: pointer;\n",
              "      display: none;\n",
              "      fill: #1967D2;\n",
              "      height: 32px;\n",
              "      padding: 0 0 0 0;\n",
              "      width: 32px;\n",
              "    }\n",
              "\n",
              "    .colab-df-convert:hover {\n",
              "      background-color: #E2EBFA;\n",
              "      box-shadow: 0px 1px 2px rgba(60, 64, 67, 0.3), 0px 1px 3px 1px rgba(60, 64, 67, 0.15);\n",
              "      fill: #174EA6;\n",
              "    }\n",
              "\n",
              "    [theme=dark] .colab-df-convert {\n",
              "      background-color: #3B4455;\n",
              "      fill: #D2E3FC;\n",
              "    }\n",
              "\n",
              "    [theme=dark] .colab-df-convert:hover {\n",
              "      background-color: #434B5C;\n",
              "      box-shadow: 0px 1px 3px 1px rgba(0, 0, 0, 0.15);\n",
              "      filter: drop-shadow(0px 1px 2px rgba(0, 0, 0, 0.3));\n",
              "      fill: #FFFFFF;\n",
              "    }\n",
              "  </style>\n",
              "\n",
              "      <script>\n",
              "        const buttonEl =\n",
              "          document.querySelector('#df-8e6d2da0-2966-45eb-b6af-000822467f3d button.colab-df-convert');\n",
              "        buttonEl.style.display =\n",
              "          google.colab.kernel.accessAllowed ? 'block' : 'none';\n",
              "\n",
              "        async function convertToInteractive(key) {\n",
              "          const element = document.querySelector('#df-8e6d2da0-2966-45eb-b6af-000822467f3d');\n",
              "          const dataTable =\n",
              "            await google.colab.kernel.invokeFunction('convertToInteractive',\n",
              "                                                     [key], {});\n",
              "          if (!dataTable) return;\n",
              "\n",
              "          const docLinkHtml = 'Like what you see? Visit the ' +\n",
              "            '<a target=\"_blank\" href=https://colab.research.google.com/notebooks/data_table.ipynb>data table notebook</a>'\n",
              "            + ' to learn more about interactive tables.';\n",
              "          element.innerHTML = '';\n",
              "          dataTable['output_type'] = 'display_data';\n",
              "          await google.colab.output.renderOutput(dataTable, element);\n",
              "          const docLink = document.createElement('div');\n",
              "          docLink.innerHTML = docLinkHtml;\n",
              "          element.appendChild(docLink);\n",
              "        }\n",
              "      </script>\n",
              "    </div>\n",
              "  </div>\n",
              "  "
            ]
          },
          "metadata": {},
          "execution_count": 22
        }
      ]
    },
    {
      "cell_type": "code",
      "source": [
        "merged_feeling_text_df.to_csv('preprocessed.csv')"
      ],
      "metadata": {
        "id": "Vxhef7cZceef"
      },
      "execution_count": null,
      "outputs": []
    },
    {
      "cell_type": "code",
      "source": [
        "merged_feeling_text_df.head()"
      ],
      "metadata": {
        "colab": {
          "base_uri": "https://localhost:8080/",
          "height": 206
        },
        "id": "j6xfOCBechpW",
        "outputId": "7856826d-7f61-4d1f-ed91-2234df738eff"
      },
      "execution_count": null,
      "outputs": [
        {
          "output_type": "execute_result",
          "data": {
            "text/plain": [
              "                                   id_y      name_y  \\\n",
              "0  c0dd0bcf-81c3-48d8-b75b-e150c24162bc  Non-guilty   \n",
              "1  c0dd0bcf-81c3-48d8-b75b-e150c24162bc  Non-guilty   \n",
              "2  c0dd0bcf-81c3-48d8-b75b-e150c24162bc  Non-guilty   \n",
              "3  c0dd0bcf-81c3-48d8-b75b-e150c24162bc  Non-guilty   \n",
              "4  c0dd0bcf-81c3-48d8-b75b-e150c24162bc  Non-guilty   \n",
              "\n",
              "                             emotion_id                               user_id  \\\n",
              "0  c0dd0bcf-81c3-48d8-b75b-e150c24162bc  3d84e6de-51dd-46dd-8eb1-7417cdcbb41c   \n",
              "1  c0dd0bcf-81c3-48d8-b75b-e150c24162bc  3d84e6de-51dd-46dd-8eb1-7417cdcbb41c   \n",
              "2  c0dd0bcf-81c3-48d8-b75b-e150c24162bc  3d84e6de-51dd-46dd-8eb1-7417cdcbb41c   \n",
              "3  c0dd0bcf-81c3-48d8-b75b-e150c24162bc  bde48414-c86e-398f-bfd1-1c00c0f941d4   \n",
              "4  c0dd0bcf-81c3-48d8-b75b-e150c24162bc  cde621f6-965e-491d-a5c4-92b0247994bc   \n",
              "\n",
              "                created_at  reactions  \\\n",
              "0  2015-12-03 03:09:30.627        0.0   \n",
              "1  2015-11-21 16:26:33.627        4.0   \n",
              "2  2015-11-17 16:24:22.192        6.0   \n",
              "3  2016-07-30 19:40:43.437        0.0   \n",
              "4  2016-01-21 11:27:13.498        3.0   \n",
              "\n",
              "                                                text  \n",
              "0               Omg   eat too much   need to stop fr  \n",
              "1                         Im starving     Literally   \n",
              "2    always have   snack before my meals cause   ...  \n",
              "3                                          UGHHHHHH   \n",
              "4                   CRAVING FOR PIZZA AND SIOMAI      "
            ],
            "text/html": [
              "\n",
              "  <div id=\"df-8ded964e-bc26-487d-9e4c-78c0a9139891\">\n",
              "    <div class=\"colab-df-container\">\n",
              "      <div>\n",
              "<style scoped>\n",
              "    .dataframe tbody tr th:only-of-type {\n",
              "        vertical-align: middle;\n",
              "    }\n",
              "\n",
              "    .dataframe tbody tr th {\n",
              "        vertical-align: top;\n",
              "    }\n",
              "\n",
              "    .dataframe thead th {\n",
              "        text-align: right;\n",
              "    }\n",
              "</style>\n",
              "<table border=\"1\" class=\"dataframe\">\n",
              "  <thead>\n",
              "    <tr style=\"text-align: right;\">\n",
              "      <th></th>\n",
              "      <th>id_y</th>\n",
              "      <th>name_y</th>\n",
              "      <th>emotion_id</th>\n",
              "      <th>user_id</th>\n",
              "      <th>created_at</th>\n",
              "      <th>reactions</th>\n",
              "      <th>text</th>\n",
              "    </tr>\n",
              "  </thead>\n",
              "  <tbody>\n",
              "    <tr>\n",
              "      <th>0</th>\n",
              "      <td>c0dd0bcf-81c3-48d8-b75b-e150c24162bc</td>\n",
              "      <td>Non-guilty</td>\n",
              "      <td>c0dd0bcf-81c3-48d8-b75b-e150c24162bc</td>\n",
              "      <td>3d84e6de-51dd-46dd-8eb1-7417cdcbb41c</td>\n",
              "      <td>2015-12-03 03:09:30.627</td>\n",
              "      <td>0.0</td>\n",
              "      <td>Omg   eat too much   need to stop fr</td>\n",
              "    </tr>\n",
              "    <tr>\n",
              "      <th>1</th>\n",
              "      <td>c0dd0bcf-81c3-48d8-b75b-e150c24162bc</td>\n",
              "      <td>Non-guilty</td>\n",
              "      <td>c0dd0bcf-81c3-48d8-b75b-e150c24162bc</td>\n",
              "      <td>3d84e6de-51dd-46dd-8eb1-7417cdcbb41c</td>\n",
              "      <td>2015-11-21 16:26:33.627</td>\n",
              "      <td>4.0</td>\n",
              "      <td>Im starving     Literally</td>\n",
              "    </tr>\n",
              "    <tr>\n",
              "      <th>2</th>\n",
              "      <td>c0dd0bcf-81c3-48d8-b75b-e150c24162bc</td>\n",
              "      <td>Non-guilty</td>\n",
              "      <td>c0dd0bcf-81c3-48d8-b75b-e150c24162bc</td>\n",
              "      <td>3d84e6de-51dd-46dd-8eb1-7417cdcbb41c</td>\n",
              "      <td>2015-11-17 16:24:22.192</td>\n",
              "      <td>6.0</td>\n",
              "      <td>always have   snack before my meals cause   ...</td>\n",
              "    </tr>\n",
              "    <tr>\n",
              "      <th>3</th>\n",
              "      <td>c0dd0bcf-81c3-48d8-b75b-e150c24162bc</td>\n",
              "      <td>Non-guilty</td>\n",
              "      <td>c0dd0bcf-81c3-48d8-b75b-e150c24162bc</td>\n",
              "      <td>bde48414-c86e-398f-bfd1-1c00c0f941d4</td>\n",
              "      <td>2016-07-30 19:40:43.437</td>\n",
              "      <td>0.0</td>\n",
              "      <td>UGHHHHHH</td>\n",
              "    </tr>\n",
              "    <tr>\n",
              "      <th>4</th>\n",
              "      <td>c0dd0bcf-81c3-48d8-b75b-e150c24162bc</td>\n",
              "      <td>Non-guilty</td>\n",
              "      <td>c0dd0bcf-81c3-48d8-b75b-e150c24162bc</td>\n",
              "      <td>cde621f6-965e-491d-a5c4-92b0247994bc</td>\n",
              "      <td>2016-01-21 11:27:13.498</td>\n",
              "      <td>3.0</td>\n",
              "      <td>CRAVING FOR PIZZA AND SIOMAI</td>\n",
              "    </tr>\n",
              "  </tbody>\n",
              "</table>\n",
              "</div>\n",
              "      <button class=\"colab-df-convert\" onclick=\"convertToInteractive('df-8ded964e-bc26-487d-9e4c-78c0a9139891')\"\n",
              "              title=\"Convert this dataframe to an interactive table.\"\n",
              "              style=\"display:none;\">\n",
              "        \n",
              "  <svg xmlns=\"http://www.w3.org/2000/svg\" height=\"24px\"viewBox=\"0 0 24 24\"\n",
              "       width=\"24px\">\n",
              "    <path d=\"M0 0h24v24H0V0z\" fill=\"none\"/>\n",
              "    <path d=\"M18.56 5.44l.94 2.06.94-2.06 2.06-.94-2.06-.94-.94-2.06-.94 2.06-2.06.94zm-11 1L8.5 8.5l.94-2.06 2.06-.94-2.06-.94L8.5 2.5l-.94 2.06-2.06.94zm10 10l.94 2.06.94-2.06 2.06-.94-2.06-.94-.94-2.06-.94 2.06-2.06.94z\"/><path d=\"M17.41 7.96l-1.37-1.37c-.4-.4-.92-.59-1.43-.59-.52 0-1.04.2-1.43.59L10.3 9.45l-7.72 7.72c-.78.78-.78 2.05 0 2.83L4 21.41c.39.39.9.59 1.41.59.51 0 1.02-.2 1.41-.59l7.78-7.78 2.81-2.81c.8-.78.8-2.07 0-2.86zM5.41 20L4 18.59l7.72-7.72 1.47 1.35L5.41 20z\"/>\n",
              "  </svg>\n",
              "      </button>\n",
              "      \n",
              "  <style>\n",
              "    .colab-df-container {\n",
              "      display:flex;\n",
              "      flex-wrap:wrap;\n",
              "      gap: 12px;\n",
              "    }\n",
              "\n",
              "    .colab-df-convert {\n",
              "      background-color: #E8F0FE;\n",
              "      border: none;\n",
              "      border-radius: 50%;\n",
              "      cursor: pointer;\n",
              "      display: none;\n",
              "      fill: #1967D2;\n",
              "      height: 32px;\n",
              "      padding: 0 0 0 0;\n",
              "      width: 32px;\n",
              "    }\n",
              "\n",
              "    .colab-df-convert:hover {\n",
              "      background-color: #E2EBFA;\n",
              "      box-shadow: 0px 1px 2px rgba(60, 64, 67, 0.3), 0px 1px 3px 1px rgba(60, 64, 67, 0.15);\n",
              "      fill: #174EA6;\n",
              "    }\n",
              "\n",
              "    [theme=dark] .colab-df-convert {\n",
              "      background-color: #3B4455;\n",
              "      fill: #D2E3FC;\n",
              "    }\n",
              "\n",
              "    [theme=dark] .colab-df-convert:hover {\n",
              "      background-color: #434B5C;\n",
              "      box-shadow: 0px 1px 3px 1px rgba(0, 0, 0, 0.15);\n",
              "      filter: drop-shadow(0px 1px 2px rgba(0, 0, 0, 0.3));\n",
              "      fill: #FFFFFF;\n",
              "    }\n",
              "  </style>\n",
              "\n",
              "      <script>\n",
              "        const buttonEl =\n",
              "          document.querySelector('#df-8ded964e-bc26-487d-9e4c-78c0a9139891 button.colab-df-convert');\n",
              "        buttonEl.style.display =\n",
              "          google.colab.kernel.accessAllowed ? 'block' : 'none';\n",
              "\n",
              "        async function convertToInteractive(key) {\n",
              "          const element = document.querySelector('#df-8ded964e-bc26-487d-9e4c-78c0a9139891');\n",
              "          const dataTable =\n",
              "            await google.colab.kernel.invokeFunction('convertToInteractive',\n",
              "                                                     [key], {});\n",
              "          if (!dataTable) return;\n",
              "\n",
              "          const docLinkHtml = 'Like what you see? Visit the ' +\n",
              "            '<a target=\"_blank\" href=https://colab.research.google.com/notebooks/data_table.ipynb>data table notebook</a>'\n",
              "            + ' to learn more about interactive tables.';\n",
              "          element.innerHTML = '';\n",
              "          dataTable['output_type'] = 'display_data';\n",
              "          await google.colab.output.renderOutput(dataTable, element);\n",
              "          const docLink = document.createElement('div');\n",
              "          docLink.innerHTML = docLinkHtml;\n",
              "          element.appendChild(docLink);\n",
              "        }\n",
              "      </script>\n",
              "    </div>\n",
              "  </div>\n",
              "  "
            ]
          },
          "metadata": {},
          "execution_count": 24
        }
      ]
    },
    {
      "cell_type": "markdown",
      "source": [
        "## read dataset"
      ],
      "metadata": {
        "id": "imZddvdFKin3"
      }
    },
    {
      "cell_type": "code",
      "source": [
        "import pandas as pd"
      ],
      "metadata": {
        "id": "t2ieHrJOLRMy"
      },
      "execution_count": 1,
      "outputs": []
    },
    {
      "cell_type": "code",
      "source": [
        "from google.colab import drive\n",
        "drive.mount('/content/drive')"
      ],
      "metadata": {
        "colab": {
          "base_uri": "https://localhost:8080/"
        },
        "id": "E4kN1V_CKmHV",
        "outputId": "b4bf5562-2785-45f2-be76-4ff4ed06c032"
      },
      "execution_count": 2,
      "outputs": [
        {
          "output_type": "stream",
          "name": "stdout",
          "text": [
            "Mounted at /content/drive\n"
          ]
        }
      ]
    },
    {
      "cell_type": "code",
      "source": [
        "%cd '/content/drive/MyDrive/DL'"
      ],
      "metadata": {
        "colab": {
          "base_uri": "https://localhost:8080/"
        },
        "id": "k6A0zz2eKpqW",
        "outputId": "71178a92-8d58-4dde-f146-ad067625ad3a"
      },
      "execution_count": 3,
      "outputs": [
        {
          "output_type": "stream",
          "name": "stdout",
          "text": [
            "/content/drive/MyDrive/DL\n"
          ]
        }
      ]
    },
    {
      "cell_type": "code",
      "source": [
        "train = pd.read_csv('train_data.csv',encoding='utf-8')\n",
        "test = pd.read_csv('test_data.csv',encoding='utf-8')"
      ],
      "metadata": {
        "id": "shScAk9bBmOs"
      },
      "execution_count": 4,
      "outputs": []
    },
    {
      "cell_type": "code",
      "source": [
        "train.head()"
      ],
      "metadata": {
        "colab": {
          "base_uri": "https://localhost:8080/",
          "height": 206
        },
        "id": "5Hsfs9qHB7MI",
        "outputId": "a70caf66-4821-48ef-9bb2-663e6d6ce814"
      },
      "execution_count": 5,
      "outputs": [
        {
          "output_type": "execute_result",
          "data": {
            "text/plain": [
              "                                                text  label\n",
              "0  _user_reference_ 1 what your name username rei...      1\n",
              "1  those who try to stop racism are often the mos...      1\n",
              "2  the plus side to being sick on the weekend you...      1\n",
              "3  binaural beats people listen to them when goin...      1\n",
              "4                               sleepyy sleepy slepy      1"
            ],
            "text/html": [
              "\n",
              "  <div id=\"df-af5fd4a7-460a-4d1c-8d36-de7a7bec4112\">\n",
              "    <div class=\"colab-df-container\">\n",
              "      <div>\n",
              "<style scoped>\n",
              "    .dataframe tbody tr th:only-of-type {\n",
              "        vertical-align: middle;\n",
              "    }\n",
              "\n",
              "    .dataframe tbody tr th {\n",
              "        vertical-align: top;\n",
              "    }\n",
              "\n",
              "    .dataframe thead th {\n",
              "        text-align: right;\n",
              "    }\n",
              "</style>\n",
              "<table border=\"1\" class=\"dataframe\">\n",
              "  <thead>\n",
              "    <tr style=\"text-align: right;\">\n",
              "      <th></th>\n",
              "      <th>text</th>\n",
              "      <th>label</th>\n",
              "    </tr>\n",
              "  </thead>\n",
              "  <tbody>\n",
              "    <tr>\n",
              "      <th>0</th>\n",
              "      <td>_user_reference_ 1 what your name username rei...</td>\n",
              "      <td>1</td>\n",
              "    </tr>\n",
              "    <tr>\n",
              "      <th>1</th>\n",
              "      <td>those who try to stop racism are often the mos...</td>\n",
              "      <td>1</td>\n",
              "    </tr>\n",
              "    <tr>\n",
              "      <th>2</th>\n",
              "      <td>the plus side to being sick on the weekend you...</td>\n",
              "      <td>1</td>\n",
              "    </tr>\n",
              "    <tr>\n",
              "      <th>3</th>\n",
              "      <td>binaural beats people listen to them when goin...</td>\n",
              "      <td>1</td>\n",
              "    </tr>\n",
              "    <tr>\n",
              "      <th>4</th>\n",
              "      <td>sleepyy sleepy slepy</td>\n",
              "      <td>1</td>\n",
              "    </tr>\n",
              "  </tbody>\n",
              "</table>\n",
              "</div>\n",
              "      <button class=\"colab-df-convert\" onclick=\"convertToInteractive('df-af5fd4a7-460a-4d1c-8d36-de7a7bec4112')\"\n",
              "              title=\"Convert this dataframe to an interactive table.\"\n",
              "              style=\"display:none;\">\n",
              "        \n",
              "  <svg xmlns=\"http://www.w3.org/2000/svg\" height=\"24px\"viewBox=\"0 0 24 24\"\n",
              "       width=\"24px\">\n",
              "    <path d=\"M0 0h24v24H0V0z\" fill=\"none\"/>\n",
              "    <path d=\"M18.56 5.44l.94 2.06.94-2.06 2.06-.94-2.06-.94-.94-2.06-.94 2.06-2.06.94zm-11 1L8.5 8.5l.94-2.06 2.06-.94-2.06-.94L8.5 2.5l-.94 2.06-2.06.94zm10 10l.94 2.06.94-2.06 2.06-.94-2.06-.94-.94-2.06-.94 2.06-2.06.94z\"/><path d=\"M17.41 7.96l-1.37-1.37c-.4-.4-.92-.59-1.43-.59-.52 0-1.04.2-1.43.59L10.3 9.45l-7.72 7.72c-.78.78-.78 2.05 0 2.83L4 21.41c.39.39.9.59 1.41.59.51 0 1.02-.2 1.41-.59l7.78-7.78 2.81-2.81c.8-.78.8-2.07 0-2.86zM5.41 20L4 18.59l7.72-7.72 1.47 1.35L5.41 20z\"/>\n",
              "  </svg>\n",
              "      </button>\n",
              "      \n",
              "  <style>\n",
              "    .colab-df-container {\n",
              "      display:flex;\n",
              "      flex-wrap:wrap;\n",
              "      gap: 12px;\n",
              "    }\n",
              "\n",
              "    .colab-df-convert {\n",
              "      background-color: #E8F0FE;\n",
              "      border: none;\n",
              "      border-radius: 50%;\n",
              "      cursor: pointer;\n",
              "      display: none;\n",
              "      fill: #1967D2;\n",
              "      height: 32px;\n",
              "      padding: 0 0 0 0;\n",
              "      width: 32px;\n",
              "    }\n",
              "\n",
              "    .colab-df-convert:hover {\n",
              "      background-color: #E2EBFA;\n",
              "      box-shadow: 0px 1px 2px rgba(60, 64, 67, 0.3), 0px 1px 3px 1px rgba(60, 64, 67, 0.15);\n",
              "      fill: #174EA6;\n",
              "    }\n",
              "\n",
              "    [theme=dark] .colab-df-convert {\n",
              "      background-color: #3B4455;\n",
              "      fill: #D2E3FC;\n",
              "    }\n",
              "\n",
              "    [theme=dark] .colab-df-convert:hover {\n",
              "      background-color: #434B5C;\n",
              "      box-shadow: 0px 1px 3px 1px rgba(0, 0, 0, 0.15);\n",
              "      filter: drop-shadow(0px 1px 2px rgba(0, 0, 0, 0.3));\n",
              "      fill: #FFFFFF;\n",
              "    }\n",
              "  </style>\n",
              "\n",
              "      <script>\n",
              "        const buttonEl =\n",
              "          document.querySelector('#df-af5fd4a7-460a-4d1c-8d36-de7a7bec4112 button.colab-df-convert');\n",
              "        buttonEl.style.display =\n",
              "          google.colab.kernel.accessAllowed ? 'block' : 'none';\n",
              "\n",
              "        async function convertToInteractive(key) {\n",
              "          const element = document.querySelector('#df-af5fd4a7-460a-4d1c-8d36-de7a7bec4112');\n",
              "          const dataTable =\n",
              "            await google.colab.kernel.invokeFunction('convertToInteractive',\n",
              "                                                     [key], {});\n",
              "          if (!dataTable) return;\n",
              "\n",
              "          const docLinkHtml = 'Like what you see? Visit the ' +\n",
              "            '<a target=\"_blank\" href=https://colab.research.google.com/notebooks/data_table.ipynb>data table notebook</a>'\n",
              "            + ' to learn more about interactive tables.';\n",
              "          element.innerHTML = '';\n",
              "          dataTable['output_type'] = 'display_data';\n",
              "          await google.colab.output.renderOutput(dataTable, element);\n",
              "          const docLink = document.createElement('div');\n",
              "          docLink.innerHTML = docLinkHtml;\n",
              "          element.appendChild(docLink);\n",
              "        }\n",
              "      </script>\n",
              "    </div>\n",
              "  </div>\n",
              "  "
            ]
          },
          "metadata": {},
          "execution_count": 5
        }
      ]
    },
    {
      "cell_type": "code",
      "source": [
        "label_counts = train['label'].value_counts()\n",
        "label_counts"
      ],
      "metadata": {
        "colab": {
          "base_uri": "https://localhost:8080/"
        },
        "id": "wJc7fRBOCMLX",
        "outputId": "5affd295-91d4-48de-b6cc-6b61d39a2b78"
      },
      "execution_count": 6,
      "outputs": [
        {
          "output_type": "execute_result",
          "data": {
            "text/plain": [
              "1    106791\n",
              "0    106791\n",
              "Name: label, dtype: int64"
            ]
          },
          "metadata": {},
          "execution_count": 6
        }
      ]
    },
    {
      "cell_type": "code",
      "source": [
        "label_counts = test['label'].value_counts()\n",
        "label_counts"
      ],
      "metadata": {
        "colab": {
          "base_uri": "https://localhost:8080/"
        },
        "id": "FOkK-SFECRJ6",
        "outputId": "63025143-bba5-49f7-f608-f7bb643917fb"
      },
      "execution_count": 7,
      "outputs": [
        {
          "output_type": "execute_result",
          "data": {
            "text/plain": [
              "1    837011\n",
              "0     26658\n",
              "Name: label, dtype: int64"
            ]
          },
          "metadata": {},
          "execution_count": 7
        }
      ]
    },
    {
      "cell_type": "code",
      "source": [
        "X_train,y_train=train['text'],train['label']\n",
        "X_test,y_test=test['text'],test['label']"
      ],
      "metadata": {
        "id": "KjGqVKqsCZcK"
      },
      "execution_count": 5,
      "outputs": []
    },
    {
      "cell_type": "markdown",
      "source": [
        "# tf-idf+LR"
      ],
      "metadata": {
        "id": "eeXYfjB6dwc0"
      }
    },
    {
      "cell_type": "code",
      "source": [
        "import pandas as pd\n",
        "from sklearn.feature_extraction.text import TfidfVectorizer\n",
        "from sklearn.model_selection import train_test_split\n",
        "from sklearn.linear_model import LogisticRegression\n",
        "from sklearn.metrics import accuracy_score"
      ],
      "metadata": {
        "id": "HXsLbSfAeDt6"
      },
      "execution_count": 7,
      "outputs": []
    },
    {
      "cell_type": "code",
      "source": [
        "from sklearn.utils import resample\n",
        "# Separate the majority and minority classes in the training set\n",
        "majority_class = X_train[y_train == 1]\n",
        "minority_class = X_train[y_train == 0]\n",
        "\n",
        "# Undersample the majority class in the training set\n",
        "undersampled_majority = resample(majority_class, replace=False, n_samples=len(minority_class), random_state=42)\n",
        "\n",
        "# Combine the undersampled majority class with the minority class in the training set\n",
        "undersampled_X_train = pd.concat([undersampled_majority, minority_class])\n",
        "undersampled_y_train = pd.concat([pd.Series([1]*len(undersampled_majority)), pd.Series([0]*len(minority_class))])"
      ],
      "metadata": {
        "id": "r-L2aeObejoJ"
      },
      "execution_count": null,
      "outputs": []
    },
    {
      "cell_type": "code",
      "source": [
        "undersampled_X_train.shape"
      ],
      "metadata": {
        "colab": {
          "base_uri": "https://localhost:8080/"
        },
        "id": "sdgOSxrFe0AD",
        "outputId": "736d78f2-0b00-4644-baba-f40cecd46648"
      },
      "execution_count": null,
      "outputs": [
        {
          "output_type": "execute_result",
          "data": {
            "text/plain": [
              "(215418,)"
            ]
          },
          "metadata": {},
          "execution_count": 45
        }
      ]
    },
    {
      "cell_type": "code",
      "source": [
        "X_train[0]"
      ],
      "metadata": {
        "colab": {
          "base_uri": "https://localhost:8080/",
          "height": 35
        },
        "id": "BSpYg45Ef4Dn",
        "outputId": "f4310fee-2077-47e2-af91-a2128e60e25e"
      },
      "execution_count": null,
      "outputs": [
        {
          "output_type": "execute_result",
          "data": {
            "text/plain": [
              "'Omg   eat too much   need to stop fr'"
            ],
            "application/vnd.google.colaboratory.intrinsic+json": {
              "type": "string"
            }
          },
          "metadata": {},
          "execution_count": 41
        }
      ]
    },
    {
      "cell_type": "code",
      "source": [
        "X_test.shape"
      ],
      "metadata": {
        "colab": {
          "base_uri": "https://localhost:8080/"
        },
        "id": "Sj1KY6PXfyle",
        "outputId": "44b97249-327f-4eae-f0f6-c1bed9739031"
      },
      "execution_count": null,
      "outputs": [
        {
          "output_type": "execute_result",
          "data": {
            "text/plain": [
              "(871809,)"
            ]
          },
          "metadata": {},
          "execution_count": 40
        }
      ]
    },
    {
      "cell_type": "code",
      "source": [
        "#Convert the raw text data into numerical features using TF-IDF vectorization\n",
        "tfidf = TfidfVectorizer()\n",
        "X_train_tfidf = tfidf.fit_transform(X_train)\n",
        "X_test_tfidf = tfidf.transform(X_test)"
      ],
      "metadata": {
        "id": "na3IAyXnfRIZ"
      },
      "execution_count": 9,
      "outputs": []
    },
    {
      "cell_type": "code",
      "source": [
        "X_train_tfidf.shape"
      ],
      "metadata": {
        "colab": {
          "base_uri": "https://localhost:8080/"
        },
        "id": "auAevLb8gceh",
        "outputId": "226cffa1-4cee-46a2-8361-fe43cae7d952"
      },
      "execution_count": null,
      "outputs": [
        {
          "output_type": "execute_result",
          "data": {
            "text/plain": [
              "(215418, 82334)"
            ]
          },
          "metadata": {},
          "execution_count": 47
        }
      ]
    },
    {
      "cell_type": "code",
      "source": [
        "model = LogisticRegression(penalty='l2',solver='saga')\n",
        "model.fit(X_train_tfidf, y_train)"
      ],
      "metadata": {
        "colab": {
          "base_uri": "https://localhost:8080/",
          "height": 74
        },
        "id": "e5JX3ntxin50",
        "outputId": "26643949-3e3a-4a8d-d33f-14a0f66dc46e"
      },
      "execution_count": 10,
      "outputs": [
        {
          "output_type": "execute_result",
          "data": {
            "text/plain": [
              "LogisticRegression(solver='saga')"
            ],
            "text/html": [
              "<style>#sk-container-id-1 {color: black;background-color: white;}#sk-container-id-1 pre{padding: 0;}#sk-container-id-1 div.sk-toggleable {background-color: white;}#sk-container-id-1 label.sk-toggleable__label {cursor: pointer;display: block;width: 100%;margin-bottom: 0;padding: 0.3em;box-sizing: border-box;text-align: center;}#sk-container-id-1 label.sk-toggleable__label-arrow:before {content: \"▸\";float: left;margin-right: 0.25em;color: #696969;}#sk-container-id-1 label.sk-toggleable__label-arrow:hover:before {color: black;}#sk-container-id-1 div.sk-estimator:hover label.sk-toggleable__label-arrow:before {color: black;}#sk-container-id-1 div.sk-toggleable__content {max-height: 0;max-width: 0;overflow: hidden;text-align: left;background-color: #f0f8ff;}#sk-container-id-1 div.sk-toggleable__content pre {margin: 0.2em;color: black;border-radius: 0.25em;background-color: #f0f8ff;}#sk-container-id-1 input.sk-toggleable__control:checked~div.sk-toggleable__content {max-height: 200px;max-width: 100%;overflow: auto;}#sk-container-id-1 input.sk-toggleable__control:checked~label.sk-toggleable__label-arrow:before {content: \"▾\";}#sk-container-id-1 div.sk-estimator input.sk-toggleable__control:checked~label.sk-toggleable__label {background-color: #d4ebff;}#sk-container-id-1 div.sk-label input.sk-toggleable__control:checked~label.sk-toggleable__label {background-color: #d4ebff;}#sk-container-id-1 input.sk-hidden--visually {border: 0;clip: rect(1px 1px 1px 1px);clip: rect(1px, 1px, 1px, 1px);height: 1px;margin: -1px;overflow: hidden;padding: 0;position: absolute;width: 1px;}#sk-container-id-1 div.sk-estimator {font-family: monospace;background-color: #f0f8ff;border: 1px dotted black;border-radius: 0.25em;box-sizing: border-box;margin-bottom: 0.5em;}#sk-container-id-1 div.sk-estimator:hover {background-color: #d4ebff;}#sk-container-id-1 div.sk-parallel-item::after {content: \"\";width: 100%;border-bottom: 1px solid gray;flex-grow: 1;}#sk-container-id-1 div.sk-label:hover label.sk-toggleable__label {background-color: #d4ebff;}#sk-container-id-1 div.sk-serial::before {content: \"\";position: absolute;border-left: 1px solid gray;box-sizing: border-box;top: 0;bottom: 0;left: 50%;z-index: 0;}#sk-container-id-1 div.sk-serial {display: flex;flex-direction: column;align-items: center;background-color: white;padding-right: 0.2em;padding-left: 0.2em;position: relative;}#sk-container-id-1 div.sk-item {position: relative;z-index: 1;}#sk-container-id-1 div.sk-parallel {display: flex;align-items: stretch;justify-content: center;background-color: white;position: relative;}#sk-container-id-1 div.sk-item::before, #sk-container-id-1 div.sk-parallel-item::before {content: \"\";position: absolute;border-left: 1px solid gray;box-sizing: border-box;top: 0;bottom: 0;left: 50%;z-index: -1;}#sk-container-id-1 div.sk-parallel-item {display: flex;flex-direction: column;z-index: 1;position: relative;background-color: white;}#sk-container-id-1 div.sk-parallel-item:first-child::after {align-self: flex-end;width: 50%;}#sk-container-id-1 div.sk-parallel-item:last-child::after {align-self: flex-start;width: 50%;}#sk-container-id-1 div.sk-parallel-item:only-child::after {width: 0;}#sk-container-id-1 div.sk-dashed-wrapped {border: 1px dashed gray;margin: 0 0.4em 0.5em 0.4em;box-sizing: border-box;padding-bottom: 0.4em;background-color: white;}#sk-container-id-1 div.sk-label label {font-family: monospace;font-weight: bold;display: inline-block;line-height: 1.2em;}#sk-container-id-1 div.sk-label-container {text-align: center;}#sk-container-id-1 div.sk-container {/* jupyter's `normalize.less` sets `[hidden] { display: none; }` but bootstrap.min.css set `[hidden] { display: none !important; }` so we also need the `!important` here to be able to override the default hidden behavior on the sphinx rendered scikit-learn.org. See: https://github.com/scikit-learn/scikit-learn/issues/21755 */display: inline-block !important;position: relative;}#sk-container-id-1 div.sk-text-repr-fallback {display: none;}</style><div id=\"sk-container-id-1\" class=\"sk-top-container\"><div class=\"sk-text-repr-fallback\"><pre>LogisticRegression(solver=&#x27;saga&#x27;)</pre><b>In a Jupyter environment, please rerun this cell to show the HTML representation or trust the notebook. <br />On GitHub, the HTML representation is unable to render, please try loading this page with nbviewer.org.</b></div><div class=\"sk-container\" hidden><div class=\"sk-item\"><div class=\"sk-estimator sk-toggleable\"><input class=\"sk-toggleable__control sk-hidden--visually\" id=\"sk-estimator-id-1\" type=\"checkbox\" checked><label for=\"sk-estimator-id-1\" class=\"sk-toggleable__label sk-toggleable__label-arrow\">LogisticRegression</label><div class=\"sk-toggleable__content\"><pre>LogisticRegression(solver=&#x27;saga&#x27;)</pre></div></div></div></div></div>"
            ]
          },
          "metadata": {},
          "execution_count": 10
        }
      ]
    },
    {
      "cell_type": "code",
      "source": [
        "from sklearn.metrics import classification_report\n",
        "y_pred = model.predict(X_train_tfidf)\n",
        "report = classification_report(y_train, y_pred)\n",
        "print(report)"
      ],
      "metadata": {
        "colab": {
          "base_uri": "https://localhost:8080/"
        },
        "id": "ew7E2CCKt0L4",
        "outputId": "590572e0-e634-428c-d14b-1ef561942159"
      },
      "execution_count": 12,
      "outputs": [
        {
          "output_type": "stream",
          "name": "stdout",
          "text": [
            "              precision    recall  f1-score   support\n",
            "\n",
            "           0       0.78      0.76      0.77    106791\n",
            "           1       0.76      0.79      0.77    106791\n",
            "\n",
            "    accuracy                           0.77    213582\n",
            "   macro avg       0.77      0.77      0.77    213582\n",
            "weighted avg       0.77      0.77      0.77    213582\n",
            "\n"
          ]
        }
      ]
    },
    {
      "cell_type": "code",
      "source": [
        "y_pred = model.predict(X_test_tfidf)"
      ],
      "metadata": {
        "id": "cZpDUmh1PkyH"
      },
      "execution_count": null,
      "outputs": []
    },
    {
      "cell_type": "code",
      "source": [
        "from sklearn.metrics import classification_report\n",
        "report = classification_report(y_test, y_pred)\n",
        "print(report)"
      ],
      "metadata": {
        "colab": {
          "base_uri": "https://localhost:8080/"
        },
        "id": "PKjhrE5-TyPl",
        "outputId": "b6e5e3cb-6e4f-49cc-e2b4-4c6fd4a79b4f"
      },
      "execution_count": null,
      "outputs": [
        {
          "output_type": "stream",
          "name": "stdout",
          "text": [
            "              precision    recall  f1-score   support\n",
            "\n",
            "           0       0.09      0.72      0.15     26725\n",
            "           1       0.99      0.76      0.86    845084\n",
            "\n",
            "    accuracy                           0.75    871809\n",
            "   macro avg       0.54      0.74      0.50    871809\n",
            "weighted avg       0.96      0.75      0.84    871809\n",
            "\n"
          ]
        }
      ]
    },
    {
      "cell_type": "code",
      "source": [
        "#confusion matrix\n",
        "import seaborn as sns\n",
        "import matplotlib.pyplot as plt\n",
        "import numpy as np\n",
        "from sklearn.metrics import confusion_matrix\n",
        "\n",
        "cm = confusion_matrix(y_test, y_pred)\n",
        "class_labels = ['guilty', 'non-guilty']\n",
        "sns.heatmap(cm, annot=True, cmap='Blues', fmt='d', xticklabels=class_labels, yticklabels=class_labels)\n",
        "\n",
        "# Set labels, title, and ticks\n",
        "plt.xlabel('Predicted')\n",
        "plt.ylabel('True')\n",
        "plt.title('Confusion Matrix')\n",
        "plt.xticks(np.arange(len(class_labels)) + 0.5, class_labels)\n",
        "plt.yticks(np.arange(len(class_labels)) + 0.5, class_labels)\n",
        "plt.show()"
      ],
      "metadata": {
        "colab": {
          "base_uri": "https://localhost:8080/",
          "height": 472
        },
        "id": "orrqrJh5UNds",
        "outputId": "1ad23d52-d297-49bb-f5c6-2aff8eef5d95"
      },
      "execution_count": null,
      "outputs": [
        {
          "output_type": "display_data",
          "data": {
            "text/plain": [
              "<Figure size 640x480 with 2 Axes>"
            ],
            "image/png": "[encoded data removed]"
          },
          "metadata": {}
        }
      ]
    },
    {
      "cell_type": "markdown",
      "source": [
        "# BiLSTM"
      ],
      "metadata": {
        "id": "fQvRtPfjk0Qv"
      }
    },
    {
      "cell_type": "code",
      "source": [
        "import pandas as pd\n",
        "import numpy as np\n",
        "from sklearn.model_selection import train_test_split\n",
        "from sklearn.preprocessing import LabelEncoder\n",
        "from tensorflow.keras import regularizers\n",
        "from tensorflow.keras.preprocessing.text import Tokenizer\n",
        "from tensorflow.keras.preprocessing.sequence import pad_sequences\n",
        "from tensorflow.keras.models import Sequential\n",
        "from tensorflow.keras.layers import Embedding, Bidirectional, LSTM, Dense,Dropout"
      ],
      "metadata": {
        "id": "TBItgqZKk4U5"
      },
      "execution_count": 11,
      "outputs": []
    },
    {
      "cell_type": "code",
      "source": [
        "import tensorflow as tf\n",
        "print(tf.config.list_physical_devices('GPU'))"
      ],
      "metadata": {
        "colab": {
          "base_uri": "https://localhost:8080/"
        },
        "id": "XRg8QAm-mcD4",
        "outputId": "b500a8eb-4801-4b14-fa18-7f47560a831b"
      },
      "execution_count": null,
      "outputs": [
        {
          "output_type": "stream",
          "name": "stdout",
          "text": [
            "[PhysicalDevice(name='/physical_device:GPU:0', device_type='GPU')]\n"
          ]
        }
      ]
    },
    {
      "cell_type": "code",
      "source": [
        "from sklearn.utils import resample\n",
        "# Separate the majority and minority classes in the training set\n",
        "majority_class = X_train[y_train == 1]\n",
        "minority_class = X_train[y_train == 0]\n",
        "\n",
        "# Undersample the majority class in the training set\n",
        "undersampled_majority = resample(majority_class, replace=False, n_samples=len(minority_class), random_state=42)\n",
        "\n",
        "# Combine the undersampled majority class with the minority class in the training set\n",
        "undersampled_X_train = pd.concat([undersampled_majority, minority_class])\n",
        "undersampled_y_train = pd.concat([pd.Series([1]*len(undersampled_majority)), pd.Series([0]*len(minority_class))])"
      ],
      "metadata": {
        "id": "bqPqmjBFLla_"
      },
      "execution_count": null,
      "outputs": []
    },
    {
      "cell_type": "code",
      "source": [
        "# Tokenize and pad sequences\n",
        "max_sequence_length = 100  # Max sequence length to consider\n",
        "tokenizer = Tokenizer()\n",
        "tokenizer.fit_on_texts(X_train)\n",
        "\n",
        "X_train_sequences = tokenizer.texts_to_sequences(X_train)\n",
        "X_train_padded = pad_sequences(X_train_sequences, maxlen=max_sequence_length)\n",
        "\n",
        "X_test_sequences = tokenizer.texts_to_sequences(X_test)\n",
        "X_test_padded = pad_sequences(X_test_sequences, maxlen=max_sequence_length)"
      ],
      "metadata": {
        "id": "EDulIxNZmC2L"
      },
      "execution_count": 12,
      "outputs": []
    },
    {
      "cell_type": "markdown",
      "source": [
        "### orginal-finished"
      ],
      "metadata": {
        "id": "3urQM9rs3wRN"
      }
    },
    {
      "cell_type": "code",
      "source": [
        "# Build the LSTM model\n",
        "embedding_dim = 100  # Embedding dimension\n",
        "vocab_size = len(tokenizer.word_index) + 1  # Vocabulary size\n",
        "\n",
        "model = Sequential()\n",
        "model.add(Embedding(vocab_size, embedding_dim, input_length=max_sequence_length))\n",
        "model.add(Bidirectional(LSTM(64, return_sequences=True)))\n",
        "model.add(Bidirectional(LSTM(64)))\n",
        "model.add(Dense(1, activation='sigmoid'))"
      ],
      "metadata": {
        "id": "_onv5uIfmGnc"
      },
      "execution_count": 17,
      "outputs": []
    },
    {
      "cell_type": "code",
      "source": [
        "from tensorflow.keras.utils import plot_model\n",
        "# Visualize the model structure\n",
        "plot_model(model, to_file='lstm_model.png', show_shapes=True, show_layer_names=True)"
      ],
      "metadata": {
        "colab": {
          "base_uri": "https://localhost:8080/",
          "height": 533
        },
        "id": "4IunLwiRRmn_",
        "outputId": "ebfe2232-9d47-4f1e-9746-6ae7662913d4"
      },
      "execution_count": 18,
      "outputs": [
        {
          "output_type": "execute_result",
          "data": {
            "image/png": "[encoded data removed]",
            "text/plain": [
              "<IPython.core.display.Image object>"
            ]
          },
          "metadata": {},
          "execution_count": 18
        }
      ]
    },
    {
      "cell_type": "code",
      "source": [
        "# Compile the model\n",
        "model.compile(loss='binary_crossentropy', optimizer='adam', metrics=['accuracy'])"
      ],
      "metadata": {
        "id": "-hO7EbQ0mIvu"
      },
      "execution_count": null,
      "outputs": []
    },
    {
      "cell_type": "code",
      "source": [
        "# Train the model\n",
        "epochs = 10  # Number of training epochs\n",
        "batch_size = 32  # Batch size\n",
        "\n",
        "model.fit(X_train_padded, undersampled_y_train, epochs=epochs, batch_size=batch_size, validation_data=(X_test_padded, y_test))"
      ],
      "metadata": {
        "colab": {
          "base_uri": "https://localhost:8080/"
        },
        "id": "5SnM9CcOmLOC",
        "outputId": "9cefd29c-fbc0-4680-bcba-ed83b4933ccb"
      },
      "execution_count": null,
      "outputs": [
        {
          "output_type": "stream",
          "name": "stdout",
          "text": [
            "Epoch 1/10\n",
            "6732/6732 [==============================] - 334s 49ms/step - loss: 0.5423 - accuracy: 0.7177 - val_loss: 0.4968 - val_accuracy: 0.7647\n",
            "Epoch 2/10\n",
            "6732/6732 [==============================] - 284s 42ms/step - loss: 0.4800 - accuracy: 0.7649 - val_loss: 0.4688 - val_accuracy: 0.7795\n",
            "Epoch 3/10\n",
            "6732/6732 [==============================] - 282s 42ms/step - loss: 0.4324 - accuracy: 0.7955 - val_loss: 0.5169 - val_accuracy: 0.7432\n",
            "Epoch 4/10\n",
            "6732/6732 [==============================] - 287s 43ms/step - loss: 0.3776 - accuracy: 0.8262 - val_loss: 0.5916 - val_accuracy: 0.7215\n",
            "Epoch 5/10\n",
            "6732/6732 [==============================] - 297s 44ms/step - loss: 0.3239 - accuracy: 0.8524 - val_loss: 0.6348 - val_accuracy: 0.7278\n",
            "Epoch 6/10\n",
            "6732/6732 [==============================] - 281s 42ms/step - loss: 0.2802 - accuracy: 0.8729 - val_loss: 0.6973 - val_accuracy: 0.7380\n",
            "Epoch 7/10\n",
            "6732/6732 [==============================] - 281s 42ms/step - loss: 0.2446 - accuracy: 0.8892 - val_loss: 0.8897 - val_accuracy: 0.7084\n",
            "Epoch 8/10\n",
            "6732/6732 [==============================] - 280s 42ms/step - loss: 0.2162 - accuracy: 0.9027 - val_loss: 0.8932 - val_accuracy: 0.7240\n",
            "Epoch 9/10\n",
            "6732/6732 [==============================] - 280s 42ms/step - loss: 0.1926 - accuracy: 0.9141 - val_loss: 0.8974 - val_accuracy: 0.7310\n",
            "Epoch 10/10\n",
            "6732/6732 [==============================] - 281s 42ms/step - loss: 0.1720 - accuracy: 0.9235 - val_loss: 1.0137 - val_accuracy: 0.7281\n"
          ]
        },
        {
          "output_type": "execute_result",
          "data": {
            "text/plain": [
              "<keras.callbacks.History at 0x7ff32834f820>"
            ]
          },
          "metadata": {},
          "execution_count": 33
        }
      ]
    },
    {
      "cell_type": "code",
      "source": [
        "# Evaluate the model\n",
        "loss, accuracy = model.evaluate(X_test_padded, y_test, batch_size=batch_size)\n",
        "print('Test Loss:', loss)\n",
        "print('Test Accuracy:', accuracy)"
      ],
      "metadata": {
        "colab": {
          "base_uri": "https://localhost:8080/"
        },
        "id": "tWmsG1IsmN-b",
        "outputId": "2dc5d8bd-6aa1-4f95-d797-ae260a48ff20"
      },
      "execution_count": null,
      "outputs": [
        {
          "output_type": "stream",
          "name": "stdout",
          "text": [
            "27245/27245 [==============================] - 189s 7ms/step - loss: 1.0137 - accuracy: 0.7281\n",
            "Test Loss: 1.0136761665344238\n",
            "Test Accuracy: 0.7280539870262146\n"
          ]
        }
      ]
    },
    {
      "cell_type": "markdown",
      "source": [
        "### change the batch size"
      ],
      "metadata": {
        "id": "OteDONWC3z58"
      }
    },
    {
      "cell_type": "code",
      "source": [
        "# modify the batch size to 16\n",
        "epochs = 10  # Number of training epochs\n",
        "batch_size = 64  # Batch size\n",
        "\n",
        "model.fit(X_train_padded, y_train, epochs=epochs, batch_size=batch_size, validation_data=(X_test_padded, y_test))"
      ],
      "metadata": {
        "colab": {
          "base_uri": "https://localhost:8080/"
        },
        "id": "MsDhEe3q3cR4",
        "outputId": "af48ecd0-ae4e-4443-bb72-5056485ed4ee"
      },
      "execution_count": 28,
      "outputs": [
        {
          "output_type": "stream",
          "name": "stdout",
          "text": [
            "Epoch 1/10\n",
            "3338/3338 [==============================] - 155s 46ms/step - loss: 0.4014 - accuracy: 0.8212 - val_loss: 0.6196 - val_accuracy: 0.7061\n",
            "Epoch 2/10\n",
            "3338/3338 [==============================] - 112s 34ms/step - loss: 0.3955 - accuracy: 0.8250 - val_loss: 0.6082 - val_accuracy: 0.7264\n",
            "Epoch 3/10\n",
            "3338/3338 [==============================] - 108s 32ms/step - loss: 0.3896 - accuracy: 0.8278 - val_loss: 0.6036 - val_accuracy: 0.7295\n",
            "Epoch 4/10\n",
            "3338/3338 [==============================] - 106s 32ms/step - loss: 0.3845 - accuracy: 0.8298 - val_loss: 0.5830 - val_accuracy: 0.7525\n",
            "Epoch 5/10\n",
            "3338/3338 [==============================] - 106s 32ms/step - loss: 0.3798 - accuracy: 0.8322 - val_loss: 0.6440 - val_accuracy: 0.7284\n",
            "Epoch 6/10\n",
            "3338/3338 [==============================] - 105s 32ms/step - loss: 0.3755 - accuracy: 0.8346 - val_loss: 0.6274 - val_accuracy: 0.7365\n",
            "Epoch 7/10\n",
            "3338/3338 [==============================] - 105s 32ms/step - loss: 0.3714 - accuracy: 0.8362 - val_loss: 0.6588 - val_accuracy: 0.7391\n",
            "Epoch 8/10\n",
            "3338/3338 [==============================] - 105s 32ms/step - loss: 0.3673 - accuracy: 0.8388 - val_loss: 0.5908 - val_accuracy: 0.7502\n",
            "Epoch 9/10\n",
            "3338/3338 [==============================] - 105s 32ms/step - loss: 0.3652 - accuracy: 0.8394 - val_loss: 0.6387 - val_accuracy: 0.7351\n",
            "Epoch 10/10\n",
            "3338/3338 [==============================] - 105s 32ms/step - loss: 0.3622 - accuracy: 0.8409 - val_loss: 0.5399 - val_accuracy: 0.7666\n"
          ]
        },
        {
          "output_type": "execute_result",
          "data": {
            "text/plain": [
              "<keras.callbacks.History at 0x7f56bc5fe980>"
            ]
          },
          "metadata": {},
          "execution_count": 28
        }
      ]
    },
    {
      "cell_type": "code",
      "source": [
        "# Evaluate the model\n",
        "loss, accuracy = model.evaluate(X_test_padded, y_test, batch_size=batch_size)\n",
        "print('Test Loss:', loss)\n",
        "print('Test Accuracy:', accuracy)"
      ],
      "metadata": {
        "id": "HRvrD6S73hIX",
        "colab": {
          "base_uri": "https://localhost:8080/"
        },
        "outputId": "78179f58-5472-4d76-cddd-c238866c885c"
      },
      "execution_count": 29,
      "outputs": [
        {
          "output_type": "stream",
          "name": "stdout",
          "text": [
            "13495/13495 [==============================] - 72s 5ms/step - loss: 0.5399 - accuracy: 0.7666\n",
            "Test Loss: 0.5398588180541992\n",
            "Test Accuracy: 0.7665945887565613\n"
          ]
        }
      ]
    },
    {
      "cell_type": "markdown",
      "source": [
        "### add a dropout layer-finished"
      ],
      "metadata": {
        "id": "VxstJNqE36wO"
      }
    },
    {
      "cell_type": "code",
      "source": [
        "# add a dropout layer\n",
        "# Build the LSTM model\n",
        "embedding_dim = 100  # Embedding dimension\n",
        "vocab_size = len(tokenizer.word_index) + 1  # Vocabulary size\n",
        "\n",
        "model = Sequential()\n",
        "model.add(Embedding(vocab_size, embedding_dim, input_length=max_sequence_length))\n",
        "model.add(Bidirectional(LSTM(64, return_sequences=True)))\n",
        "model.add(Dropout(0.5))\n",
        "model.add(Bidirectional(LSTM(64)))\n",
        "model.add(Dense(1, activation='sigmoid'))\n",
        "model.compile(loss='binary_crossentropy', optimizer='adam', metrics=['accuracy'])"
      ],
      "metadata": {
        "id": "7fWOKSVj3iAy"
      },
      "execution_count": null,
      "outputs": []
    },
    {
      "cell_type": "code",
      "source": [
        "# modify the batch size to 16\n",
        "epochs = 10  # Number of training epochs\n",
        "batch_size = 32  # Batch size\n",
        "\n",
        "model.fit(X_train_padded, y_train, epochs=epochs, batch_size=batch_size, validation_data=(X_test_padded, y_test))"
      ],
      "metadata": {
        "colab": {
          "base_uri": "https://localhost:8080/"
        },
        "id": "oImAHmJo3tU1",
        "outputId": "0760a205-086e-4eaa-cedb-a2edc237fbbf"
      },
      "execution_count": null,
      "outputs": [
        {
          "output_type": "stream",
          "name": "stdout",
          "text": [
            "Epoch 1/10\n",
            "6675/6675 [==============================] - 345s 50ms/step - loss: 0.5388 - accuracy: 0.7225 - val_loss: 0.4748 - val_accuracy: 0.8043\n",
            "Epoch 2/10\n",
            "6675/6675 [==============================] - 277s 41ms/step - loss: 0.4821 - accuracy: 0.7639 - val_loss: 0.5293 - val_accuracy: 0.7236\n",
            "Epoch 3/10\n",
            "6675/6675 [==============================] - 277s 42ms/step - loss: 0.4382 - accuracy: 0.7927 - val_loss: 0.5483 - val_accuracy: 0.7401\n",
            "Epoch 4/10\n",
            "6675/6675 [==============================] - 273s 41ms/step - loss: 0.3915 - accuracy: 0.8190 - val_loss: 0.5922 - val_accuracy: 0.7325\n",
            "Epoch 5/10\n",
            "6675/6675 [==============================] - 273s 41ms/step - loss: 0.3444 - accuracy: 0.8440 - val_loss: 0.6649 - val_accuracy: 0.7210\n",
            "Epoch 6/10\n",
            "6675/6675 [==============================] - 272s 41ms/step - loss: 0.3022 - accuracy: 0.8646 - val_loss: 0.7900 - val_accuracy: 0.6759\n",
            "Epoch 7/10\n",
            "6675/6675 [==============================] - 274s 41ms/step - loss: 0.2677 - accuracy: 0.8806 - val_loss: 0.7103 - val_accuracy: 0.7296\n",
            "Epoch 8/10\n",
            "6675/6675 [==============================] - 277s 42ms/step - loss: 0.2396 - accuracy: 0.8937 - val_loss: 0.8438 - val_accuracy: 0.7106\n",
            "Epoch 9/10\n",
            "6675/6675 [==============================] - 278s 42ms/step - loss: 0.2170 - accuracy: 0.9050 - val_loss: 0.8282 - val_accuracy: 0.7365\n",
            "Epoch 10/10\n",
            "6675/6675 [==============================] - 274s 41ms/step - loss: 0.1983 - accuracy: 0.9137 - val_loss: 0.9874 - val_accuracy: 0.7005\n"
          ]
        },
        {
          "output_type": "execute_result",
          "data": {
            "text/plain": [
              "<keras.callbacks.History at 0x7fc7b02e1630>"
            ]
          },
          "metadata": {},
          "execution_count": 16
        }
      ]
    },
    {
      "cell_type": "code",
      "source": [
        "# Evaluate the model\n",
        "loss, accuracy = model.evaluate(X_test_padded, y_test, batch_size=batch_size)\n",
        "print('Test Loss:', loss)\n",
        "print('Test Accuracy:', accuracy)"
      ],
      "metadata": {
        "id": "2aQklbjL3t7r",
        "colab": {
          "base_uri": "https://localhost:8080/"
        },
        "outputId": "9f9f4621-db9e-4703-cda9-5fcca061ea20"
      },
      "execution_count": null,
      "outputs": [
        {
          "output_type": "stream",
          "name": "stdout",
          "text": [
            "26990/26990 [==============================] - 186s 7ms/step - loss: 0.9874 - accuracy: 0.7005\n",
            "Test Loss: 0.9874386191368103\n",
            "Test Accuracy: 0.700542688369751\n"
          ]
        }
      ]
    },
    {
      "cell_type": "markdown",
      "source": [
        "### use regularization method"
      ],
      "metadata": {
        "id": "kYEFmk1X4BX1"
      }
    },
    {
      "cell_type": "code",
      "source": [
        "# add a dropout layer\n",
        "# Build the LSTM model\n",
        "embedding_dim = 100  # Embedding dimension\n",
        "vocab_size = len(tokenizer.word_index) + 1  # Vocabulary size\n",
        "\n",
        "model = Sequential()\n",
        "model.add(Embedding(vocab_size, embedding_dim, input_length=max_sequence_length))\n",
        "model.add(Bidirectional(LSTM(64, return_sequences=True, kernel_regularizer=regularizers.l2(0.05))))\n",
        "#model.add(Dropout(0.5))\n",
        "model.add(Bidirectional(LSTM(64,kernel_regularizer=regularizers.l2(0.05))))\n",
        "model.add(Dense(1, activation='sigmoid'))\n",
        "model.compile(loss='binary_crossentropy', optimizer='adam', metrics=['accuracy'])"
      ],
      "metadata": {
        "id": "jwUFP9a94EqF"
      },
      "execution_count": 13,
      "outputs": []
    },
    {
      "cell_type": "code",
      "source": [
        "# modify the batch size to 16\n",
        "epochs = 10  # Number of training epochs\n",
        "batch_size = 32  # Batch size\n",
        "\n",
        "model.fit(X_train_padded, y_train, epochs=epochs, batch_size=batch_size, validation_data=(X_test_padded, y_test))"
      ],
      "metadata": {
        "id": "nJo8AgJD4FaB",
        "colab": {
          "base_uri": "https://localhost:8080/"
        },
        "outputId": "6644874e-5a61-4ca5-fe43-c96898d021df"
      },
      "execution_count": 14,
      "outputs": [
        {
          "output_type": "stream",
          "name": "stdout",
          "text": [
            "Epoch 1/10\n",
            "6675/6675 [==============================] - 365s 53ms/step - loss: 0.7503 - accuracy: 0.7033 - val_loss: 0.5178 - val_accuracy: 0.7564\n",
            "Epoch 2/10\n",
            "6675/6675 [==============================] - 294s 44ms/step - loss: 0.5476 - accuracy: 0.7398 - val_loss: 0.7213 - val_accuracy: 0.6155\n",
            "Epoch 3/10\n",
            "6675/6675 [==============================] - 291s 44ms/step - loss: 0.5130 - accuracy: 0.7591 - val_loss: 0.5426 - val_accuracy: 0.7425\n",
            "Epoch 4/10\n",
            "6675/6675 [==============================] - 289s 43ms/step - loss: 0.4946 - accuracy: 0.7692 - val_loss: 0.5099 - val_accuracy: 0.7774\n",
            "Epoch 5/10\n",
            "6675/6675 [==============================] - 287s 43ms/step - loss: 0.4776 - accuracy: 0.7804 - val_loss: 0.5117 - val_accuracy: 0.7409\n",
            "Epoch 6/10\n",
            "6675/6675 [==============================] - 289s 43ms/step - loss: 0.4662 - accuracy: 0.7878 - val_loss: 0.6519 - val_accuracy: 0.6691\n",
            "Epoch 7/10\n",
            "6675/6675 [==============================] - 289s 43ms/step - loss: 0.4575 - accuracy: 0.7921 - val_loss: 0.5591 - val_accuracy: 0.7452\n",
            "Epoch 8/10\n",
            "6675/6675 [==============================] - 296s 44ms/step - loss: 0.4510 - accuracy: 0.7966 - val_loss: 0.6380 - val_accuracy: 0.6607\n",
            "Epoch 9/10\n",
            "6675/6675 [==============================] - 292s 44ms/step - loss: 0.4434 - accuracy: 0.8013 - val_loss: 0.5623 - val_accuracy: 0.7354\n",
            "Epoch 10/10\n",
            "6675/6675 [==============================] - 287s 43ms/step - loss: 0.4380 - accuracy: 0.8040 - val_loss: 0.4950 - val_accuracy: 0.7700\n"
          ]
        },
        {
          "output_type": "execute_result",
          "data": {
            "text/plain": [
              "<keras.callbacks.History at 0x7f57a84f9fc0>"
            ]
          },
          "metadata": {},
          "execution_count": 14
        }
      ]
    },
    {
      "cell_type": "code",
      "source": [
        "# Evaluate the model\n",
        "loss, accuracy = model.evaluate(X_test_padded, y_test, batch_size=batch_size)\n",
        "print('Test Loss:', loss)\n",
        "print('Test Accuracy:', accuracy)"
      ],
      "metadata": {
        "id": "_GoSXnoZ4HKJ",
        "colab": {
          "base_uri": "https://localhost:8080/"
        },
        "outputId": "8d048915-4f4d-4472-e657-0fec789ed4ac"
      },
      "execution_count": 15,
      "outputs": [
        {
          "output_type": "stream",
          "name": "stdout",
          "text": [
            "26990/26990 [==============================] - 195s 7ms/step - loss: 0.4950 - accuracy: 0.7700\n",
            "Test Loss: 0.4950246810913086\n",
            "Test Accuracy: 0.7700368762016296\n"
          ]
        }
      ]
    },
    {
      "cell_type": "markdown",
      "source": [
        "# biLSTM+CNN"
      ],
      "metadata": {
        "id": "Z28mEfiTFJ-g"
      }
    },
    {
      "cell_type": "markdown",
      "source": [
        "## orginal"
      ],
      "metadata": {
        "id": "je1c9nhN_yPX"
      }
    },
    {
      "cell_type": "code",
      "source": [
        "from tensorflow.keras.models import Model\n",
        "from tensorflow.keras.layers import Embedding, Bidirectional, LSTM, Conv1D, GlobalMaxPooling1D, Dense, Multiply, Activation\n",
        "\n",
        "vocab_size = len(tokenizer.word_index) + 1\n",
        "embedding_dim = 100\n",
        "\n",
        "# Define the model\n",
        "model = Sequential()\n",
        "\n",
        "# Input Representation\n",
        "model.add(Embedding(vocab_size, embedding_dim, input_length=max_sequence_length))\n",
        "\n",
        "# BiLSTM Layer\n",
        "model.add(Bidirectional(LSTM(64, return_sequences=True)))\n",
        "\n",
        "# CNN Layer\n",
        "model.add(Conv1D(128, 5, activation='relu'))\n",
        "model.add(GlobalMaxPooling1D())\n",
        "\n",
        "# Attention Mechanism\n",
        "attention_size = 64\n",
        "attention_weights = Dense(attention_size, activation='tanh')(model.output)\n",
        "attention_weights = Dense(1)(attention_weights)\n",
        "attention_weights = Activation('softmax')(attention_weights)\n",
        "attention_output = Multiply()([model.output, attention_weights])\n",
        "\n",
        "# Fully Connected Layers\n",
        "model.add(Dense(64, activation='relu'))\n",
        "\n",
        "# Output Layer\n",
        "model.add(Dense(1, activation='sigmoid'))\n",
        "\n",
        "# Create the model with attention layer\n",
        "model = Model(inputs=model.input, outputs=model.output)\n",
        "\n",
        "# Compile the model\n",
        "model.compile(loss='binary_crossentropy', optimizer='adam', metrics=['accuracy'])\n",
        "\n",
        "# Print the model summary\n",
        "model.summary()"
      ],
      "metadata": {
        "colab": {
          "base_uri": "https://localhost:8080/"
        },
        "id": "zA_elZ8aFNKw",
        "outputId": "82316e08-8e76-4ced-c05d-4d0aeb29c508"
      },
      "execution_count": 19,
      "outputs": [
        {
          "output_type": "stream",
          "name": "stdout",
          "text": [
            "Model: \"model\"\n",
            "_________________________________________________________________\n",
            " Layer (type)                Output Shape              Param #   \n",
            "=================================================================\n",
            " embedding_2_input (InputLay  [(None, 100)]            0         \n",
            " er)                                                             \n",
            "                                                                 \n",
            " embedding_2 (Embedding)     (None, 100, 100)          6983500   \n",
            "                                                                 \n",
            " bidirectional_4 (Bidirectio  (None, 100, 128)         84480     \n",
            " nal)                                                            \n",
            "                                                                 \n",
            " conv1d (Conv1D)             (None, 96, 128)           82048     \n",
            "                                                                 \n",
            " global_max_pooling1d (Globa  (None, 128)              0         \n",
            " lMaxPooling1D)                                                  \n",
            "                                                                 \n",
            " dense_4 (Dense)             (None, 64)                8256      \n",
            "                                                                 \n",
            " dense_5 (Dense)             (None, 1)                 65        \n",
            "                                                                 \n",
            "=================================================================\n",
            "Total params: 7,158,349\n",
            "Trainable params: 7,158,349\n",
            "Non-trainable params: 0\n",
            "_________________________________________________________________\n"
          ]
        }
      ]
    },
    {
      "cell_type": "code",
      "source": [
        "from tensorflow.keras.utils import plot_model\n",
        "# Visualize the model structure\n",
        "plot_model(model, to_file='lstm_model.png', show_shapes=True, show_layer_names=True)"
      ],
      "metadata": {
        "colab": {
          "base_uri": "https://localhost:8080/",
          "height": 754
        },
        "id": "418BFLQxedNM",
        "outputId": "df102fe7-db61-40cc-a288-2141be539086"
      },
      "execution_count": 20,
      "outputs": [
        {
          "output_type": "execute_result",
          "data": {
            "image/png": "[encoded data removed]",
            "text/plain": [
              "<IPython.core.display.Image object>"
            ]
          },
          "metadata": {},
          "execution_count": 20
        }
      ]
    },
    {
      "cell_type": "code",
      "source": [
        "# Train the model\n",
        "# modify the batch size to 16\n",
        "epochs = 10  # Number of training epochs\n",
        "batch_size = 32  # Batch size\n",
        "\n",
        "model.fit(X_train_padded, undersampled_y_train, epochs=epochs, batch_size=batch_size, validation_data=(X_test_padded, y_test))"
      ],
      "metadata": {
        "colab": {
          "base_uri": "https://localhost:8080/"
        },
        "id": "AzxsRNSgGD3N",
        "outputId": "acf3d140-368c-499d-e2ac-811772e8e536"
      },
      "execution_count": null,
      "outputs": [
        {
          "output_type": "stream",
          "name": "stdout",
          "text": [
            "Epoch 1/10\n",
            "6732/6732 [==============================] - 257s 37ms/step - loss: 0.5322 - accuracy: 0.7253 - val_loss: 0.5122 - val_accuracy: 0.7608\n",
            "Epoch 2/10\n",
            "6732/6732 [==============================] - 193s 29ms/step - loss: 0.4723 - accuracy: 0.7707 - val_loss: 0.5016 - val_accuracy: 0.7705\n",
            "Epoch 3/10\n",
            "6732/6732 [==============================] - 190s 28ms/step - loss: 0.4170 - accuracy: 0.8046 - val_loss: 0.5218 - val_accuracy: 0.7486\n",
            "Epoch 4/10\n",
            "6732/6732 [==============================] - 188s 28ms/step - loss: 0.3542 - accuracy: 0.8381 - val_loss: 0.5778 - val_accuracy: 0.7313\n",
            "Epoch 5/10\n",
            "6732/6732 [==============================] - 188s 28ms/step - loss: 0.2946 - accuracy: 0.8670 - val_loss: 0.6941 - val_accuracy: 0.7087\n",
            "Epoch 6/10\n",
            "6732/6732 [==============================] - 188s 28ms/step - loss: 0.2480 - accuracy: 0.8873 - val_loss: 0.7125 - val_accuracy: 0.7549\n",
            "Epoch 7/10\n",
            "6732/6732 [==============================] - 186s 28ms/step - loss: 0.2142 - accuracy: 0.9034 - val_loss: 0.8578 - val_accuracy: 0.7455\n",
            "Epoch 8/10\n",
            "6732/6732 [==============================] - 187s 28ms/step - loss: 0.1886 - accuracy: 0.9147 - val_loss: 1.0782 - val_accuracy: 0.7209\n",
            "Epoch 9/10\n",
            "6732/6732 [==============================] - 188s 28ms/step - loss: 0.1667 - accuracy: 0.9247 - val_loss: 1.2553 - val_accuracy: 0.6876\n",
            "Epoch 10/10\n",
            "6732/6732 [==============================] - 187s 28ms/step - loss: 0.1481 - accuracy: 0.9337 - val_loss: 1.6727 - val_accuracy: 0.6646\n"
          ]
        },
        {
          "output_type": "execute_result",
          "data": {
            "text/plain": [
              "<keras.callbacks.History at 0x7f81a8588d00>"
            ]
          },
          "metadata": {},
          "execution_count": 16
        }
      ]
    },
    {
      "cell_type": "code",
      "source": [
        "# Evaluate the model on the test set\n",
        "loss, accuracy = model.evaluate(X_test_padded, y_test, batch_size=batch_size)\n",
        "print('Test Loss:', loss)\n",
        "print('Test Accuracy:', accuracy)"
      ],
      "metadata": {
        "colab": {
          "base_uri": "https://localhost:8080/"
        },
        "id": "c6AM0F1xGH3I",
        "outputId": "a6d3e83f-0ac0-4b9b-8199-c46bec8a1acc"
      },
      "execution_count": null,
      "outputs": [
        {
          "output_type": "stream",
          "name": "stdout",
          "text": [
            "27245/27245 [==============================] - 127s 5ms/step - loss: 1.6727 - accuracy: 0.6646\n",
            "Test Loss: 1.672655701637268\n",
            "Test Accuracy: 0.6645973920822144\n"
          ]
        }
      ]
    },
    {
      "cell_type": "markdown",
      "source": [
        "## early stopping"
      ],
      "metadata": {
        "id": "o4yICMLn_3Ma"
      }
    },
    {
      "cell_type": "code",
      "source": [
        "vocab_size = len(tokenizer.word_index) + 1\n",
        "embedding_dim = 100\n",
        "\n",
        "# Define the model\n",
        "model = Sequential()\n",
        "\n",
        "# Input Representation\n",
        "model.add(Embedding(vocab_size, embedding_dim, input_length=max_sequence_length))\n",
        "\n",
        "# BiLSTM Layer\n",
        "model.add(Bidirectional(LSTM(64, return_sequences=True)))\n",
        "\n",
        "#Dropout\n",
        "model.add(Dropout(0.5))\n",
        "\n",
        "# CNN Layer\n",
        "model.add(Conv1D(128, 5, activation='relu'))\n",
        "model.add(GlobalMaxPooling1D())\n",
        "\n",
        "# Attention Mechanism\n",
        "attention_size = 64\n",
        "attention_weights = Dense(attention_size, activation='tanh')(model.output)\n",
        "attention_weights = Dense(1)(attention_weights)\n",
        "attention_weights = Activation('softmax')(attention_weights)\n",
        "attention_output = Multiply()([model.output, attention_weights])\n",
        "\n",
        "# Fully Connected Layers\n",
        "model.add(Dense(64, activation='relu'))\n",
        "\n",
        "# Output Layer\n",
        "model.add(Dense(1, activation='sigmoid'))\n",
        "\n",
        "# Create the model with attention layer\n",
        "model = Model(inputs=model.input, outputs=model.output)\n",
        "\n",
        "# Compile the model\n",
        "model.compile(loss='binary_crossentropy', optimizer='adam', metrics=['accuracy'])\n",
        "\n",
        "# Print the model summary\n",
        "model.summary()"
      ],
      "metadata": {
        "colab": {
          "base_uri": "https://localhost:8080/"
        },
        "id": "21ZUQHDmZgkR",
        "outputId": "04c40273-7d62-46b0-cb9e-2afd57c5652f"
      },
      "execution_count": null,
      "outputs": [
        {
          "output_type": "stream",
          "name": "stdout",
          "text": [
            "Model: \"model_2\"\n",
            "_________________________________________________________________\n",
            " Layer (type)                Output Shape              Param #   \n",
            "=================================================================\n",
            " embedding_2_input (InputLay  [(None, 100)]            0         \n",
            " er)                                                             \n",
            "                                                                 \n",
            " embedding_2 (Embedding)     (None, 100, 100)          7890000   \n",
            "                                                                 \n",
            " bidirectional_2 (Bidirectio  (None, 100, 128)         84480     \n",
            " nal)                                                            \n",
            "                                                                 \n",
            " dropout (Dropout)           (None, 100, 128)          0         \n",
            "                                                                 \n",
            " conv1d_2 (Conv1D)           (None, 96, 128)           82048     \n",
            "                                                                 \n",
            " global_max_pooling1d_2 (Glo  (None, 128)              0         \n",
            " balMaxPooling1D)                                                \n",
            "                                                                 \n",
            " dense_10 (Dense)            (None, 64)                8256      \n",
            "                                                                 \n",
            " dense_11 (Dense)            (None, 1)                 65        \n",
            "                                                                 \n",
            "=================================================================\n",
            "Total params: 8,064,849\n",
            "Trainable params: 8,064,849\n",
            "Non-trainable params: 0\n",
            "_________________________________________________________________\n"
          ]
        }
      ]
    },
    {
      "cell_type": "code",
      "source": [
        "epochs = 6  # Number of training epochs\n",
        "batch_size = 32  # Batch size\n",
        "\n",
        "model.fit(X_train_padded, undersampled_y_train, epochs=epochs, batch_size=batch_size, validation_data=(X_test_padded, y_test))"
      ],
      "metadata": {
        "colab": {
          "base_uri": "https://localhost:8080/"
        },
        "id": "cmyl1RbEZqbl",
        "outputId": "0f8aa2b5-5f6f-466c-fe92-d57e10428c1f"
      },
      "execution_count": null,
      "outputs": [
        {
          "output_type": "stream",
          "name": "stdout",
          "text": [
            "Epoch 1/10\n",
            "6732/6732 [==============================] - 236s 34ms/step - loss: 0.5363 - accuracy: 0.7230 - val_loss: 0.5064 - val_accuracy: 0.7871\n",
            "Epoch 2/10\n",
            "6732/6732 [==============================] - 192s 29ms/step - loss: 0.4785 - accuracy: 0.7672 - val_loss: 0.5278 - val_accuracy: 0.7237\n",
            "Epoch 3/10\n",
            "6732/6732 [==============================] - 189s 28ms/step - loss: 0.4282 - accuracy: 0.7983 - val_loss: 0.5250 - val_accuracy: 0.7700\n",
            "Epoch 4/10\n",
            "6732/6732 [==============================] - 190s 28ms/step - loss: 0.3753 - accuracy: 0.8271 - val_loss: 0.6047 - val_accuracy: 0.7291\n",
            "Epoch 5/10\n",
            "6732/6732 [==============================] - 191s 28ms/step - loss: 0.3261 - accuracy: 0.8522 - val_loss: 0.6109 - val_accuracy: 0.7325\n",
            "Epoch 6/10\n",
            "6732/6732 [==============================] - 219s 33ms/step - loss: 0.2854 - accuracy: 0.8710 - val_loss: 0.6381 - val_accuracy: 0.7356\n",
            "Epoch 7/10\n",
            "6732/6732 [==============================] - 189s 28ms/step - loss: 0.2528 - accuracy: 0.8856 - val_loss: 0.8369 - val_accuracy: 0.7035\n",
            "Epoch 8/10\n",
            "6732/6732 [==============================] - 188s 28ms/step - loss: 0.2277 - accuracy: 0.8969 - val_loss: 1.0192 - val_accuracy: 0.6926\n",
            "Epoch 9/10\n",
            "6732/6732 [==============================] - 189s 28ms/step - loss: 0.2083 - accuracy: 0.9056 - val_loss: 0.9218 - val_accuracy: 0.7024\n",
            "Epoch 10/10\n",
            "6732/6732 [==============================] - 188s 28ms/step - loss: 0.1902 - accuracy: 0.9144 - val_loss: 0.9965 - val_accuracy: 0.6964\n"
          ]
        },
        {
          "output_type": "execute_result",
          "data": {
            "text/plain": [
              "<keras.callbacks.History at 0x7f81a1d73a00>"
            ]
          },
          "metadata": {},
          "execution_count": 19
        }
      ]
    },
    {
      "cell_type": "code",
      "source": [
        "# Evaluate the model on the test set\n",
        "loss, accuracy = model.evaluate(X_test_padded, y_test, batch_size=batch_size)\n",
        "print('Test Loss:', loss)\n",
        "print('Test Accuracy:', accuracy)"
      ],
      "metadata": {
        "colab": {
          "base_uri": "https://localhost:8080/"
        },
        "id": "MkPruhuhiUvY",
        "outputId": "5a2b72a0-3a31-4ea3-dd51-4337ed3e2cec"
      },
      "execution_count": null,
      "outputs": [
        {
          "output_type": "stream",
          "name": "stdout",
          "text": [
            "27245/27245 [==============================] - 129s 5ms/step - loss: 0.9965 - accuracy: 0.6964\n",
            "Test Loss: 0.9964879751205444\n",
            "Test Accuracy: 0.69638991355896\n"
          ]
        }
      ]
    },
    {
      "cell_type": "markdown",
      "source": [
        "## l2 regularization"
      ],
      "metadata": {
        "id": "6S42-68C_67J"
      }
    },
    {
      "cell_type": "code",
      "source": [
        "from tensorflow.keras.models import Model\n",
        "from tensorflow.keras.layers import Embedding, Bidirectional, LSTM, Conv1D, GlobalMaxPooling1D, Dense, Multiply, Activation\n",
        "\n",
        "vocab_size = len(tokenizer.word_index) + 1\n",
        "embedding_dim = 100\n",
        "\n",
        "# Define the model\n",
        "model = Sequential()\n",
        "\n",
        "# Input Representation\n",
        "model.add(Embedding(vocab_size, embedding_dim, input_length=max_sequence_length))\n",
        "\n",
        "# BiLSTM Layer with L2 regularization\n",
        "model.add(Bidirectional(LSTM(64, return_sequences=True, kernel_regularizer=regularizers.l2(0.05))))\n",
        "\n",
        "# CNN Layer\n",
        "model.add(Conv1D(128, 5, activation='relu'))\n",
        "model.add(GlobalMaxPooling1D())\n",
        "\n",
        "# Attention Mechanism\n",
        "attention_size = 64\n",
        "attention_weights = Dense(attention_size, activation='tanh')(model.output)\n",
        "attention_weights = Dense(1)(attention_weights)\n",
        "attention_weights = Activation('softmax')(attention_weights)\n",
        "attention_output = Multiply()([model.output, attention_weights])\n",
        "\n",
        "# Fully Connected Layers with L2 regularization\n",
        "model.add(Dense(64, activation='relu', kernel_regularizer=regularizers.l2(0.05)))\n",
        "\n",
        "# Output Layer\n",
        "model.add(Dense(1, activation='sigmoid'))\n",
        "\n",
        "# Create the model with attention layer\n",
        "model = Model(inputs=model.input, outputs=model.output)\n",
        "\n",
        "# Compile the model\n",
        "model.compile(loss='binary_crossentropy', optimizer='adam', metrics=['accuracy'])\n",
        "\n",
        "# Print the model summary\n",
        "model.summary()"
      ],
      "metadata": {
        "colab": {
          "base_uri": "https://localhost:8080/"
        },
        "id": "Nd1RLoXFfuFw",
        "outputId": "5d49f030-ef37-4d8a-9f32-0f0ccc6b158e"
      },
      "execution_count": 25,
      "outputs": [
        {
          "output_type": "stream",
          "name": "stdout",
          "text": [
            "Model: \"model_2\"\n",
            "_________________________________________________________________\n",
            " Layer (type)                Output Shape              Param #   \n",
            "=================================================================\n",
            " embedding_4_input (InputLay  [(None, 100)]            0         \n",
            " er)                                                             \n",
            "                                                                 \n",
            " embedding_4 (Embedding)     (None, 100, 100)          6983500   \n",
            "                                                                 \n",
            " bidirectional_6 (Bidirectio  (None, 100, 128)         84480     \n",
            " nal)                                                            \n",
            "                                                                 \n",
            " conv1d_2 (Conv1D)           (None, 96, 128)           82048     \n",
            "                                                                 \n",
            " global_max_pooling1d_2 (Glo  (None, 128)              0         \n",
            " balMaxPooling1D)                                                \n",
            "                                                                 \n",
            " dense_12 (Dense)            (None, 64)                8256      \n",
            "                                                                 \n",
            " dense_13 (Dense)            (None, 1)                 65        \n",
            "                                                                 \n",
            "=================================================================\n",
            "Total params: 7,158,349\n",
            "Trainable params: 7,158,349\n",
            "Non-trainable params: 0\n",
            "_________________________________________________________________\n"
          ]
        }
      ]
    },
    {
      "cell_type": "code",
      "source": [
        "epochs = 10  # Number of training epochs\n",
        "batch_size = 32  # Batch size\n",
        "\n",
        "model.fit(X_train_padded, y_train, epochs=epochs, batch_size=batch_size, validation_data=(X_test_padded, y_test))"
      ],
      "metadata": {
        "colab": {
          "base_uri": "https://localhost:8080/"
        },
        "id": "5jF4lz2NfzOI",
        "outputId": "43e507e6-86d8-48dc-c114-4a8fecaec724"
      },
      "execution_count": 26,
      "outputs": [
        {
          "output_type": "stream",
          "name": "stdout",
          "text": [
            "Epoch 1/10\n",
            "6675/6675 [==============================] - 241s 36ms/step - loss: 0.6813 - accuracy: 0.7142 - val_loss: 0.4138 - val_accuracy: 0.8388\n",
            "Epoch 2/10\n",
            "6675/6675 [==============================] - 193s 29ms/step - loss: 0.5188 - accuracy: 0.7506 - val_loss: 0.4969 - val_accuracy: 0.7671\n",
            "Epoch 3/10\n",
            "6675/6675 [==============================] - 192s 29ms/step - loss: 0.4978 - accuracy: 0.7654 - val_loss: 0.4032 - val_accuracy: 0.8276\n",
            "Epoch 4/10\n",
            "6675/6675 [==============================] - 191s 29ms/step - loss: 0.4821 - accuracy: 0.7758 - val_loss: 0.5289 - val_accuracy: 0.7386\n",
            "Epoch 5/10\n",
            "6675/6675 [==============================] - 191s 29ms/step - loss: 0.4691 - accuracy: 0.7843 - val_loss: 0.6380 - val_accuracy: 0.6968\n",
            "Epoch 6/10\n",
            "6675/6675 [==============================] - 192s 29ms/step - loss: 0.4560 - accuracy: 0.7916 - val_loss: 0.6945 - val_accuracy: 0.6504\n",
            "Epoch 7/10\n",
            "6675/6675 [==============================] - 190s 29ms/step - loss: 0.4449 - accuracy: 0.7977 - val_loss: 0.5780 - val_accuracy: 0.7260\n",
            "Epoch 8/10\n",
            "6675/6675 [==============================] - 219s 33ms/step - loss: 0.4352 - accuracy: 0.8032 - val_loss: 0.7523 - val_accuracy: 0.6611\n",
            "Epoch 9/10\n",
            "6675/6675 [==============================] - 189s 28ms/step - loss: 0.4273 - accuracy: 0.8084 - val_loss: 0.6722 - val_accuracy: 0.6801\n",
            "Epoch 10/10\n",
            "6675/6675 [==============================] - 189s 28ms/step - loss: 0.4198 - accuracy: 0.8116 - val_loss: 0.5131 - val_accuracy: 0.7636\n"
          ]
        },
        {
          "output_type": "execute_result",
          "data": {
            "text/plain": [
              "<keras.callbacks.History at 0x7f570d2fea10>"
            ]
          },
          "metadata": {},
          "execution_count": 26
        }
      ]
    },
    {
      "cell_type": "code",
      "source": [
        "# Evaluate the model on the test set\n",
        "loss, accuracy = model.evaluate(X_test_padded, y_test, batch_size=batch_size)\n",
        "print('Test Loss:', loss)\n",
        "print('Test Accuracy:', accuracy)"
      ],
      "metadata": {
        "colab": {
          "base_uri": "https://localhost:8080/"
        },
        "id": "DT2k7bcnf6A5",
        "outputId": "4c22b707-07e8-489b-c1b0-15c74933be87"
      },
      "execution_count": 27,
      "outputs": [
        {
          "output_type": "stream",
          "name": "stdout",
          "text": [
            "26990/26990 [==============================] - 134s 5ms/step - loss: 0.5131 - accuracy: 0.7636\n",
            "Test Loss: 0.5130504369735718\n",
            "Test Accuracy: 0.7636293768882751\n"
          ]
        }
      ]
    }
  ]
}